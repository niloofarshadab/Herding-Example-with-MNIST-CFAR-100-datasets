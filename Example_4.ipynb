{
 "cells": [
  {
   "cell_type": "code",
   "execution_count": 1,
   "metadata": {},
   "outputs": [],
   "source": [
    "import os\n",
    "import numpy as np\n",
    "import matplotlib as mpl\n",
    "import matplotlib.pyplot as plt\n",
    "from PIL import Image"
   ]
  },
  {
   "cell_type": "code",
   "execution_count": 2,
   "metadata": {},
   "outputs": [
    {
     "name": "stdout",
     "output_type": "stream",
     "text": [
      "datasets/examplepics\n"
     ]
    }
   ],
   "source": [
    "imgpath = os.path.join(\"datasets\", \"examplepics\")\n",
    "print(imgpath)"
   ]
  },
  {
   "cell_type": "code",
   "execution_count": 3,
   "metadata": {},
   "outputs": [
    {
     "name": "stdout",
     "output_type": "stream",
     "text": [
      "datasets/examplepics/pic01.jpg\n"
     ]
    }
   ],
   "source": [
    "imgstring = os.path.join(imgpath,\"pic{0:02d}.jpg\".format(1))\n",
    "print(imgstring)"
   ]
  },
  {
   "cell_type": "code",
   "execution_count": 4,
   "metadata": {},
   "outputs": [
    {
     "data": {
      "text/plain": [
       "False"
      ]
     },
     "execution_count": 4,
     "metadata": {},
     "output_type": "execute_result"
    }
   ],
   "source": [
    "os.path.exists(imgstring)"
   ]
  },
  {
   "cell_type": "code",
   "execution_count": null,
   "metadata": {},
   "outputs": [],
   "source": [
    "im = Image.open(imgstring)"
   ]
  },
  {
   "cell_type": "code",
   "execution_count": null,
   "metadata": {},
   "outputs": [],
   "source": [
    "imarray = np.asarray(im)\n",
    "imarray.shape"
   ]
  },
  {
   "cell_type": "code",
   "execution_count": null,
   "metadata": {},
   "outputs": [],
   "source": [
    "plt.imshow(im)"
   ]
  },
  {
   "cell_type": "code",
   "execution_count": null,
   "metadata": {},
   "outputs": [],
   "source": [
    "imw,imh = im.size"
   ]
  },
  {
   "cell_type": "code",
   "execution_count": null,
   "metadata": {},
   "outputs": [],
   "source": [
    "cenw = imw/2\n",
    "cenh = imh/2\n",
    "halfw = imw/2\n",
    "halfh = imh/2"
   ]
  },
  {
   "cell_type": "code",
   "execution_count": null,
   "metadata": {},
   "outputs": [],
   "source": [
    "(cenw-halfw,cenh-halfw,cenw+halfw,cenh+halfw)"
   ]
  },
  {
   "cell_type": "code",
   "execution_count": null,
   "metadata": {},
   "outputs": [],
   "source": [
    "cropped = im.crop((cenw-halfw,cenh-halfw,cenw+halfw,cenh+halfw))"
   ]
  },
  {
   "cell_type": "code",
   "execution_count": null,
   "metadata": {},
   "outputs": [],
   "source": [
    "plt.imshow(cropped)"
   ]
  },
  {
   "cell_type": "code",
   "execution_count": null,
   "metadata": {},
   "outputs": [],
   "source": [
    "cropped.size"
   ]
  },
  {
   "cell_type": "code",
   "execution_count": null,
   "metadata": {},
   "outputs": [],
   "source": [
    "gs = cropped.convert('L')\n",
    "plt.imshow(gs, cmap=plt.get_cmap('gray'), interpolation=\"bicubic\")"
   ]
  },
  {
   "cell_type": "code",
   "execution_count": null,
   "metadata": {},
   "outputs": [],
   "source": [
    "gstiny = gs.resize((32,32))\n",
    "plt.imshow(gstiny, cmap=plt.get_cmap('gray'), interpolation=\"bicubic\")"
   ]
  },
  {
   "cell_type": "code",
   "execution_count": null,
   "metadata": {},
   "outputs": [],
   "source": [
    "allimgs = np.zeros((2,32*32),dtype=np.uint8)"
   ]
  },
  {
   "cell_type": "code",
   "execution_count": null,
   "metadata": {},
   "outputs": [],
   "source": [
    "ima = np.asarray(gstiny)\n",
    "allimgs[0,:] = np.reshape(ima,32*32)"
   ]
  },
  {
   "cell_type": "code",
   "execution_count": null,
   "metadata": {},
   "outputs": [],
   "source": [
    "allimgs"
   ]
  },
  {
   "cell_type": "code",
   "execution_count": null,
   "metadata": {},
   "outputs": [],
   "source": [
    "for i in range(20000):\n",
    "    imgstring = os.path.join(imgpath,\"pic{0:05d}.jpg\".format(i+1))\n",
    "    print(imgstring)"
   ]
  },
  {
   "cell_type": "code",
   "execution_count": null,
   "metadata": {},
   "outputs": [],
   "source": [
    "imgstring = os.path.join(imgpath,\"pic{0:02d}.jpg\".format(2))\n",
    "im = Image.open(imgstring)\n",
    "plt.imshow(im)\n"
   ]
  },
  {
   "cell_type": "code",
   "execution_count": null,
   "metadata": {},
   "outputs": [],
   "source": [
    "imw,imh = im.size\n",
    "cenw = imw/2\n",
    "cenh = imh/2\n",
    "halfw = imw/2\n",
    "halfh = imh/2\n",
    "# cropped = im.crop((cenw-halfw,cenh-halfw,cenw+halfw,cenh+halfw))\n",
    "cropped = im.crop((cenw-halfh,cenh-halfh,cenw+halfh,cenh+halfh))\n",
    "plt.imshow(cropped)\n",
    "gs = cropped.convert('L')\n",
    "gstiny = gs.resize((32,32))\n",
    "plt.imshow(gstiny, cmap=plt.get_cmap('gray'), interpolation=\"bicubic\")\n",
    "ima = np.asarray(gstiny)\n",
    "allimgs[1,:] = np.reshape(ima,32*32)"
   ]
  },
  {
   "cell_type": "code",
   "execution_count": null,
   "metadata": {},
   "outputs": [],
   "source": [
    "plt.imshow(allimgs[0,:].reshape((32,32)), cmap=plt.get_cmap('gray'))"
   ]
  },
  {
   "cell_type": "code",
   "execution_count": null,
   "metadata": {},
   "outputs": [],
   "source": [
    "plt.imshow(allimgs[1,:].reshape((32,32)), cmap=plt.get_cmap('gray'))"
   ]
  },
  {
   "cell_type": "markdown",
   "metadata": {},
   "source": [
    "Do some examples of the following:\n",
    "- Slice at some Z for classification at 3+ dimensions\n",
    "- Projection by PCA\n",
    "- Probability contours"
   ]
  },
  {
   "cell_type": "code",
   "execution_count": null,
   "metadata": {},
   "outputs": [],
   "source": [
    "from sklearn.svm import SVC\n",
    "from sklearn.linear_model import LogisticRegression\n",
    "\n",
    "from sklearn.pipeline import Pipeline\n",
    "from sklearn.preprocessing import StandardScaler"
   ]
  },
  {
   "cell_type": "code",
   "execution_count": null,
   "metadata": {},
   "outputs": [],
   "source": [
    "from sklearn.datasets import make_blobs\n",
    "\n",
    "X,y = make_blobs(n_samples=300,n_features=3,centers=2,cluster_std=2.5)"
   ]
  },
  {
   "cell_type": "code",
   "execution_count": null,
   "metadata": {},
   "outputs": [],
   "source": [
    "x1_min = X[:,0].min() - 0.5\n",
    "x1_max = X[:,0].max() + 0.5\n",
    "x2_min = X[:,1].min() - 0.5\n",
    "x2_max = X[:,1].max() + 0.5\n",
    "x3_min = X[:,2].min() - 0.5\n",
    "x3_max = X[:,2].max() + 0.5\n",
    "h = 0.02"
   ]
  },
  {
   "cell_type": "code",
   "execution_count": null,
   "metadata": {},
   "outputs": [],
   "source": [
    "fig = plt.figure()\n",
    "ax = fig.add_subplot(projection='3d')\n",
    "ax.view_init(elev=30,azim=45)\n",
    "ax.scatter(X[:,0],X[:,1],X[:,2], c=y, edgecolors='k', cmap=plt.cm.Paired)\n",
    "ax.set_xlabel('x1')\n",
    "ax.set_ylabel('x2')\n",
    "ax.set_zlabel('x3')"
   ]
  },
  {
   "cell_type": "code",
   "execution_count": null,
   "metadata": {},
   "outputs": [],
   "source": [
    "pl = Pipeline([\n",
    "        (\"scaler\", StandardScaler()),\n",
    "        (\"clf\", LogisticRegression()),\n",
    "    ])\n",
    "pl.fit(X,y)"
   ]
  },
  {
   "cell_type": "code",
   "execution_count": null,
   "metadata": {},
   "outputs": [],
   "source": [
    "x1_pts,x2_pts = np.meshgrid(np.arange(x1_min,x1_max,h),np.arange(x2_min,x2_max,h))\n"
   ]
  },
  {
   "cell_type": "code",
   "execution_count": null,
   "metadata": {},
   "outputs": [],
   "source": [
    "x3_pts = (x3_min/2 + x3_max/2+5)*np.ones(x1_pts.ravel().shape)\n"
   ]
  },
  {
   "cell_type": "code",
   "execution_count": null,
   "metadata": {},
   "outputs": [],
   "source": [
    "predpts = pl.predict(np.c_[x1_pts.ravel(),x2_pts.ravel(),x3_pts.ravel()])\n",
    "predpts = predpts.reshape(x1_pts.shape)"
   ]
  },
  {
   "cell_type": "code",
   "execution_count": null,
   "metadata": {},
   "outputs": [],
   "source": [
    "plt.figure(1)\n",
    "plt.pcolormesh(x1_pts,x2_pts,predpts,cmap=plt.cm.Paired,shading='auto')\n",
    "\n",
    "plt.scatter(X[:, 0], X[:, 1], c=y, edgecolors='k', cmap=plt.cm.Paired)\n",
    "plt.xlabel('x1')\n",
    "plt.ylabel('x2')\n",
    "\n",
    "plt.xlim(x1_pts.min(), x1_pts.max())\n",
    "plt.ylim(x2_pts.min(), x2_pts.max())\n",
    "\n",
    "plt.show()"
   ]
  },
  {
   "cell_type": "code",
   "execution_count": null,
   "metadata": {},
   "outputs": [],
   "source": [
    "x1_pts,x2_pts = np.meshgrid(np.arange(x1_min,x1_max,h),np.arange(x2_min,x2_max,h))\n",
    "x3_pts = (x3_min/2 + x3_max/2)*np.ones(x1_pts.ravel().shape)\n",
    "predpts = pl.predict_proba(np.c_[x1_pts.ravel(),x2_pts.ravel(),x3_pts.ravel()])\n"
   ]
  },
  {
   "cell_type": "code",
   "execution_count": null,
   "metadata": {},
   "outputs": [],
   "source": [
    "predpts"
   ]
  },
  {
   "cell_type": "code",
   "execution_count": null,
   "metadata": {},
   "outputs": [],
   "source": [
    "predpts = predpts[:,1]\n",
    "predpts = predpts.reshape(x1_pts.shape)"
   ]
  },
  {
   "cell_type": "code",
   "execution_count": null,
   "metadata": {},
   "outputs": [],
   "source": [
    "plt.figure(1)\n",
    "plt.contourf(x1_pts,x2_pts,predpts,cmap=plt.cm.Reds,levels=100)\n",
    "\n",
    "plt.scatter(X[:, 0], X[:, 1], c=y, edgecolors='k',cmap=plt.cm.Reds)\n",
    "plt.xlabel('x1')\n",
    "plt.ylabel('x2')\n",
    "\n",
    "plt.xlim(x1_pts.min(), x1_pts.max())\n",
    "plt.ylim(x2_pts.min(), x2_pts.max())\n",
    "\n",
    "plt.show()"
   ]
  },
  {
   "cell_type": "code",
   "execution_count": null,
   "metadata": {},
   "outputs": [],
   "source": [
    "from sklearn.datasets import load_iris\n",
    "\n",
    "data = load_iris()\n",
    "X = data.data\n",
    "y = data.target"
   ]
  },
  {
   "cell_type": "code",
   "execution_count": null,
   "metadata": {},
   "outputs": [],
   "source": [
    "from matplotlib.colors import ListedColormap\n",
    "colorarray = ListedColormap(np.array([[1,0,0,1],[0,1,0,1],[0,0,1,1]]))"
   ]
  },
  {
   "cell_type": "code",
   "execution_count": null,
   "metadata": {},
   "outputs": [],
   "source": [
    "x1_min = X[:,0].min() - 0.5\n",
    "x1_max = X[:,0].max() + 0.5\n",
    "x2_min = X[:,1].min() - 0.5\n",
    "x2_max = X[:,1].max() + 0.5\n",
    "x3_min = X[:,2].min() - 0.5\n",
    "x3_max = X[:,2].max() + 0.5\n",
    "x4_min = X[:,3].min() - 0.5\n",
    "x4_max = X[:,3].max() + 0.5\n",
    "h = 0.02"
   ]
  },
  {
   "cell_type": "code",
   "execution_count": null,
   "metadata": {},
   "outputs": [],
   "source": [
    "fig = plt.figure()\n",
    "ax = fig.add_subplot(projection='3d')\n",
    "ax.view_init(elev=30,azim=225)\n",
    "ax.scatter(X[:,0],X[:,1],X[:,2], c=y, edgecolors='k', cmap=colorarray)\n",
    "ax.set_xlabel('x1')\n",
    "ax.set_ylabel('x2')\n",
    "ax.set_zlabel('x3')\n"
   ]
  },
  {
   "cell_type": "code",
   "execution_count": null,
   "metadata": {},
   "outputs": [],
   "source": [
    "pl = Pipeline([\n",
    "        (\"scaler\", StandardScaler()),\n",
    "        (\"clf\", SVC()),\n",
    "    ])\n",
    "pl.fit(X,y)"
   ]
  },
  {
   "cell_type": "code",
   "execution_count": null,
   "metadata": {},
   "outputs": [],
   "source": [
    "x1_pts,x2_pts = np.meshgrid(np.arange(x1_min,x1_max,h),np.arange(x2_min,x2_max,h))\n",
    "x3_pts = (x3_min/2 + x3_max/2)*np.ones(x1_pts.ravel().shape)\n",
    "x4_pts = (x4_min/2 + x4_max/2)*np.ones(x1_pts.ravel().shape)\n",
    "predpts = pl.predict(np.c_[x1_pts.ravel(),x2_pts.ravel(),x3_pts.ravel(),x4_pts.ravel()])\n",
    "predpts = predpts.reshape(x1_pts.shape)"
   ]
  },
  {
   "cell_type": "code",
   "execution_count": null,
   "metadata": {},
   "outputs": [],
   "source": [
    "plt.figure(1)\n",
    "plt.pcolormesh(x1_pts,x2_pts,predpts,cmap=colorarray,shading='auto')\n",
    "\n",
    "plt.scatter(X[:, 0], X[:, 1], c=y, edgecolors='k', cmap=colorarray)\n",
    "plt.xlabel('x1')\n",
    "plt.ylabel('x2')\n",
    "\n",
    "plt.xlim(x1_pts.min(), x1_pts.max())\n",
    "plt.ylim(x2_pts.min(), x2_pts.max())\n",
    "\n",
    "plt.show()"
   ]
  },
  {
   "cell_type": "code",
   "execution_count": null,
   "metadata": {},
   "outputs": [],
   "source": [
    "pl = Pipeline([\n",
    "        (\"scaler\", StandardScaler()),\n",
    "        (\"clf\", LogisticRegression()),\n",
    "    ])\n",
    "pl.fit(X,y)"
   ]
  },
  {
   "cell_type": "code",
   "execution_count": null,
   "metadata": {},
   "outputs": [],
   "source": [
    "x1_pts,x2_pts = np.meshgrid(np.arange(x1_min,x1_max,h),np.arange(x2_min,x2_max,h))\n",
    "x3_pts = (x3_min/2 + x3_max/2 + 2)*np.ones(x1_pts.ravel().shape)\n",
    "x4_pts = (x4_min/2 + x4_max/2)*np.ones(x1_pts.ravel().shape)\n",
    "predpts = pl.predict_proba(np.c_[x1_pts.ravel(),x2_pts.ravel(),x3_pts.ravel(),x4_pts.ravel()])\n"
   ]
  },
  {
   "cell_type": "code",
   "execution_count": null,
   "metadata": {},
   "outputs": [],
   "source": [
    "predpts = predpts.reshape((x1_pts.shape[0],x1_pts.shape[1],3))"
   ]
  },
  {
   "cell_type": "code",
   "execution_count": null,
   "metadata": {},
   "outputs": [],
   "source": [
    "predpts"
   ]
  },
  {
   "cell_type": "code",
   "execution_count": null,
   "metadata": {},
   "outputs": [],
   "source": [
    "plt.imshow(predpts,origin='lower',extent=[x1_min,x1_max,x2_min,x2_max])\n",
    "\n",
    "plt.scatter(X[:, 0], X[:, 1], c=y, edgecolors='k', cmap=colorarray)\n",
    "plt.xlabel('x1')\n",
    "plt.ylabel('x2')\n",
    "\n",
    "plt.xlim(x1_pts.min(), x1_pts.max())\n",
    "plt.ylim(x2_pts.min(), x2_pts.max())\n",
    "\n",
    "plt.show()"
   ]
  },
  {
   "cell_type": "code",
   "execution_count": null,
   "metadata": {},
   "outputs": [],
   "source": [
    "x1_pts,x2_pts = np.meshgrid(np.arange(x1_min,x1_max,h),np.arange(x2_min,x2_max,h))\n",
    "x3_pts = (x3_min/2 + x3_max/2+2)*np.ones(x1_pts.ravel().shape)\n",
    "x4_pts = (x4_min/2 + x4_max/2)*np.ones(x1_pts.ravel().shape)\n",
    "predpts = pl.predict_proba(np.c_[x1_pts.ravel(),x2_pts.ravel(),x3_pts.ravel(),x4_pts.ravel()])"
   ]
  },
  {
   "cell_type": "code",
   "execution_count": null,
   "metadata": {},
   "outputs": [],
   "source": [
    "for i in range(predpts.shape[0]):\n",
    "    maxval = predpts[i,:].max()\n",
    "    for j in range(3):\n",
    "        if predpts[i,j] < maxval:\n",
    "            predpts[i,j] = 0.0\n",
    "\n",
    "predpts = predpts.reshape((x1_pts.shape[0],x1_pts.shape[1],3))"
   ]
  },
  {
   "cell_type": "code",
   "execution_count": null,
   "metadata": {},
   "outputs": [],
   "source": [
    "plt.imshow(predpts,origin='lower',extent=[x1_min,x1_max,x2_min,x2_max])\n",
    "\n",
    "plt.scatter(X[:, 0], X[:, 1], c=y, edgecolors='k', cmap=colorarray)\n",
    "plt.xlabel('x1')\n",
    "plt.ylabel('x2')\n",
    "\n",
    "plt.xlim(x1_pts.min(), x1_pts.max())\n",
    "plt.ylim(x2_pts.min(), x2_pts.max())\n",
    "\n",
    "plt.show()\n"
   ]
  },
  {
   "cell_type": "code",
   "execution_count": null,
   "metadata": {},
   "outputs": [],
   "source": [
    "from sklearn.decomposition import PCA\n",
    "\n",
    "pca = PCA(n_components=2)\n",
    "X2 = pca.fit_transform(X)"
   ]
  },
  {
   "cell_type": "code",
   "execution_count": null,
   "metadata": {},
   "outputs": [],
   "source": [
    "X2"
   ]
  },
  {
   "cell_type": "code",
   "execution_count": null,
   "metadata": {},
   "outputs": [],
   "source": [
    "x1_min = X2[:,0].min() - 0.5\n",
    "x1_max = X2[:,0].max() + 0.5\n",
    "x2_min = X2[:,1].min() - 0.5\n",
    "x2_max = X2[:,1].max() + 0.5"
   ]
  },
  {
   "cell_type": "code",
   "execution_count": null,
   "metadata": {},
   "outputs": [],
   "source": [
    "pl = Pipeline([\n",
    "        (\"scaler\", StandardScaler()),\n",
    "        (\"clf\", SVC()),\n",
    "    ])\n",
    "pl.fit(X2,y)"
   ]
  },
  {
   "cell_type": "code",
   "execution_count": null,
   "metadata": {},
   "outputs": [],
   "source": [
    "x1_pts,x2_pts = np.meshgrid(np.arange(x1_min,x1_max,h),np.arange(x2_min,x2_max,h))\n",
    "predpts = pl.predict(np.c_[x1_pts.ravel(),x2_pts.ravel()])\n",
    "predpts = predpts.reshape(x1_pts.shape)"
   ]
  },
  {
   "cell_type": "code",
   "execution_count": null,
   "metadata": {},
   "outputs": [],
   "source": [
    "plt.figure(1)\n",
    "plt.pcolormesh(x1_pts,x2_pts,predpts,cmap=colorarray,shading='auto')\n",
    "\n",
    "plt.scatter(X2[:, 0], X2[:, 1], c=y, edgecolors='k', cmap=colorarray)\n",
    "plt.xlabel('x1')\n",
    "plt.ylabel('x2')\n",
    "\n",
    "plt.xlim(x1_pts.min(), x1_pts.max())\n",
    "plt.ylim(x2_pts.min(), x2_pts.max())\n",
    "\n",
    "plt.show()"
   ]
  },
  {
   "cell_type": "code",
   "execution_count": null,
   "metadata": {},
   "outputs": [],
   "source": [
    "pl = Pipeline([\n",
    "        (\"scaler\", StandardScaler()),\n",
    "        (\"clf\", LogisticRegression()),\n",
    "    ])\n",
    "pl.fit(X2,y)"
   ]
  },
  {
   "cell_type": "code",
   "execution_count": null,
   "metadata": {},
   "outputs": [],
   "source": [
    "x1_pts,x2_pts = np.meshgrid(np.arange(x1_min,x1_max,h),np.arange(x2_min,x2_max,h))\n",
    "predpts = pl.predict_proba(np.c_[x1_pts.ravel(),x2_pts.ravel()])"
   ]
  },
  {
   "cell_type": "code",
   "execution_count": null,
   "metadata": {},
   "outputs": [],
   "source": [
    "for i in range(predpts.shape[0]):\n",
    "    maxval = predpts[i,:].max()\n",
    "    for j in range(3):\n",
    "        if predpts[i,j] < maxval:\n",
    "            predpts[i,j] = 0.0\n",
    "\n",
    "predpts = predpts.reshape((x1_pts.shape[0],x1_pts.shape[1],3))"
   ]
  },
  {
   "cell_type": "code",
   "execution_count": null,
   "metadata": {},
   "outputs": [],
   "source": [
    "plt.imshow(predpts,origin='lower',extent=[x1_min,x1_max,x2_min,x2_max])\n",
    "\n",
    "plt.scatter(X2[:, 0], X2[:, 1], c=y, edgecolors='k', cmap=colorarray)\n",
    "plt.xlabel('x1')\n",
    "plt.ylabel('x2')\n",
    "\n",
    "plt.xlim(x1_pts.min(), x1_pts.max())\n",
    "plt.ylim(x2_pts.min(), x2_pts.max())\n",
    "\n",
    "plt.show()"
   ]
  },
  {
   "cell_type": "code",
   "execution_count": null,
   "metadata": {},
   "outputs": [],
   "source": []
  }
 ],
 "metadata": {
  "interpreter": {
   "hash": "63239e487d98c7284e209f1e2423af1678d839c716ea06adfddffbe4e93e2bbb"
  },
  "kernelspec": {
   "display_name": "Python 3 (ipykernel)",
   "language": "python",
   "name": "python3"
  },
  "language_info": {
   "codemirror_mode": {
    "name": "ipython",
    "version": 3
   },
   "file_extension": ".py",
   "mimetype": "text/x-python",
   "name": "python",
   "nbconvert_exporter": "python",
   "pygments_lexer": "ipython3",
   "version": "3.9.7"
  }
 },
 "nbformat": 4,
 "nbformat_minor": 2
}
