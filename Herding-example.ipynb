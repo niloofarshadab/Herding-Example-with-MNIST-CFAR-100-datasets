{
 "cells": [
  {
   "cell_type": "code",
   "execution_count": 1,
   "metadata": {},
   "outputs": [],
   "source": [
    "import torch\n",
    "import torchvision as thv\n",
    "import torch.nn as nn\n",
    "import torch.nn.functional as F\n",
    "import torch.optim as optim\n",
    "import torchvision.transforms as transforms"
   ]
  },
  {
   "cell_type": "markdown",
   "metadata": {},
   "source": [
    "## MNIST DATASET"
   ]
  },
  {
   "cell_type": "code",
   "execution_count": 2,
   "metadata": {},
   "outputs": [
    {
     "name": "stdout",
     "output_type": "stream",
     "text": [
      "Downloading http://yann.lecun.com/exdb/mnist/train-images-idx3-ubyte.gz to  .. / data /MNIST/raw/train-images-idx3-ubyte.gz\n"
     ]
    },
    {
     "data": {
      "application/vnd.jupyter.widget-view+json": {
       "model_id": "971c2007b27f49db8384b9160a277d9c",
       "version_major": 2,
       "version_minor": 0
      },
      "text/plain": [
       "HBox(children=(IntProgress(value=1, bar_style='info', max=1), HTML(value='')))"
      ]
     },
     "metadata": {},
     "output_type": "display_data"
    },
    {
     "name": "stdout",
     "output_type": "stream",
     "text": [
      "Extracting  .. / data /MNIST/raw/train-images-idx3-ubyte.gz to  .. / data /MNIST/raw\n",
      "Downloading http://yann.lecun.com/exdb/mnist/train-labels-idx1-ubyte.gz to  .. / data /MNIST/raw/train-labels-idx1-ubyte.gz\n"
     ]
    },
    {
     "data": {
      "application/vnd.jupyter.widget-view+json": {
       "model_id": "92f24cf8d67243f5905b91eee1b176ae",
       "version_major": 2,
       "version_minor": 0
      },
      "text/plain": [
       "HBox(children=(IntProgress(value=1, bar_style='info', max=1), HTML(value='')))"
      ]
     },
     "metadata": {},
     "output_type": "display_data"
    },
    {
     "name": "stdout",
     "output_type": "stream",
     "text": [
      "Extracting  .. / data /MNIST/raw/train-labels-idx1-ubyte.gz to  .. / data /MNIST/raw\n",
      "Downloading http://yann.lecun.com/exdb/mnist/t10k-images-idx3-ubyte.gz to  .. / data /MNIST/raw/t10k-images-idx3-ubyte.gz\n"
     ]
    },
    {
     "data": {
      "application/vnd.jupyter.widget-view+json": {
       "model_id": "279ee3c01d5049cab11c21cea26081fb",
       "version_major": 2,
       "version_minor": 0
      },
      "text/plain": [
       "HBox(children=(IntProgress(value=1, bar_style='info', max=1), HTML(value='')))"
      ]
     },
     "metadata": {},
     "output_type": "display_data"
    },
    {
     "name": "stdout",
     "output_type": "stream",
     "text": [
      "Extracting  .. / data /MNIST/raw/t10k-images-idx3-ubyte.gz to  .. / data /MNIST/raw\n",
      "Downloading http://yann.lecun.com/exdb/mnist/t10k-labels-idx1-ubyte.gz to  .. / data /MNIST/raw/t10k-labels-idx1-ubyte.gz\n"
     ]
    },
    {
     "data": {
      "application/vnd.jupyter.widget-view+json": {
       "model_id": "004547227f3240eda644f646af85f61b",
       "version_major": 2,
       "version_minor": 0
      },
      "text/plain": [
       "HBox(children=(IntProgress(value=1, bar_style='info', max=1), HTML(value='')))"
      ]
     },
     "metadata": {},
     "output_type": "display_data"
    },
    {
     "name": "stdout",
     "output_type": "stream",
     "text": [
      "Extracting  .. / data /MNIST/raw/t10k-labels-idx1-ubyte.gz to  .. / data /MNIST/raw\n",
      "Processing...\n"
     ]
    },
    {
     "name": "stderr",
     "output_type": "stream",
     "text": [
      "/Users/niloofar/opt/anaconda3/lib/python3.7/site-packages/torchvision/datasets/mnist.py:480: UserWarning: The given NumPy array is not writeable, and PyTorch does not support non-writeable tensors. This means you can write to the underlying (supposedly non-writeable) NumPy array using the tensor. You may want to copy the array to protect its data or make it writeable before converting it to a tensor. This type of warning will be suppressed for the rest of this program. (Triggered internally at  /Users/distiller/project/conda/conda-bld/pytorch_1607370126481/work/torch/csrc/utils/tensor_numpy.cpp:141.)\n",
      "  return torch.from_numpy(parsed.astype(m[2], copy=False)).view(*s)\n"
     ]
    },
    {
     "name": "stdout",
     "output_type": "stream",
     "text": [
      "Done!\n",
      "torch.Size([60000, 28, 28]) 60000\n",
      "\n",
      "\n",
      "\n"
     ]
    }
   ],
   "source": [
    "train = thv.datasets.MNIST(' .. / data ', download=True , train=True, transform = transforms.Compose([transforms.ToTensor(),transforms.Normalize((0.1307,), (0.3081,))]))\n",
    "val = thv.datasets.MNIST(' .. / data ', download=True , train=False, transform = transforms.Compose([transforms.ToTensor(),transforms.Normalize((0.1307,), (0.3081,))]))\n",
    "print(train.data.shape , len ( train.targets ))\n",
    "#print(val)\n",
    "train_loader = torch.utils.data.DataLoader(train, batch_size=128, shuffle = True)\n",
    "test_loader = torch.utils.data.DataLoader(val, batch_size=128, shuffle = False)"
   ]
  },
  {
   "cell_type": "markdown",
   "metadata": {},
   "source": [
    "## CNN FOR MNIST"
   ]
  },
  {
   "cell_type": "code",
   "execution_count": 14,
   "metadata": {},
   "outputs": [],
   "source": [
    "class ConNet(nn.Module):\n",
    "    def __init__(self):\n",
    "        super(ConNet, self).__init__()\n",
    "        self.layer1 = nn.Sequential(\n",
    "            nn.Conv2d(1, 32, kernel_size=3, stride = 1),\n",
    "            nn.ReLU(),\n",
    "            nn.MaxPool2d(kernel_size=2, stride=2))\n",
    "        self.layer2 = nn.Sequential(\n",
    "            nn.Conv2d(32, 64, kernel_size=5, stride=1),\n",
    "            nn.ReLU(),\n",
    "            nn.MaxPool2d(kernel_size=2, stride=2))\n",
    "        self.flatten = nn.Flatten()\n",
    "        self.drop_out = nn.Dropout()\n",
    "        self.fc1 = nn.Linear(4 * 4 * 64, 1024)\n",
    "        self.relu = nn.ReLU()\n",
    "\n",
    "    def forward(self, x):\n",
    "        out = self.layer1(x)\n",
    "        out = self.layer2(out)\n",
    "        out = out.reshape(out.size(0), -1)\n",
    "        out = self.flatten(out)\n",
    "        out = self.drop_out(out)\n",
    "        out = self.fc1(out)\n",
    "        out = self.relu(out)\n",
    "        return F.log_softmax(out)"
   ]
  },
  {
   "cell_type": "code",
   "execution_count": 15,
   "metadata": {},
   "outputs": [],
   "source": [
    "model_1 = ConNet()\n",
    "model_2 = ConNet()\n",
    "model_3 = ConNet()\n",
    "model_4 = ConNet()\n",
    "\n",
    "# Loss and optimizer\n",
    "criterion = nn.CrossEntropyLoss()\n"
   ]
  },
  {
   "cell_type": "code",
   "execution_count": 16,
   "metadata": {
    "scrolled": true
   },
   "outputs": [
    {
     "name": "stderr",
     "output_type": "stream",
     "text": [
      "/Users/niloofar/opt/anaconda3/lib/python3.7/site-packages/ipykernel_launcher.py:25: UserWarning: Implicit dimension choice for log_softmax has been deprecated. Change the call to include dim=X as an argument.\n"
     ]
    },
    {
     "name": "stdout",
     "output_type": "stream",
     "text": [
      "Epoch [1/10], Step [100/469], Loss: 0.5223, Accuracy: 85.16%\n",
      "F1: 0.8516998201756548  Precision: 0.8639154790521978  Recall: 0.8515625\n"
     ]
    },
    {
     "name": "stderr",
     "output_type": "stream",
     "text": [
      "/Users/niloofar/opt/anaconda3/lib/python3.7/site-packages/ipykernel_launcher.py:25: UserWarning: Implicit dimension choice for log_softmax has been deprecated. Change the call to include dim=X as an argument.\n"
     ]
    },
    {
     "name": "stdout",
     "output_type": "stream",
     "text": [
      "Epoch [1/10], Step [200/469], Loss: 0.2572, Accuracy: 91.41%\n",
      "F1: 0.9146214522133639  Precision: 0.9209133748196248  Recall: 0.9140625\n"
     ]
    },
    {
     "name": "stderr",
     "output_type": "stream",
     "text": [
      "/Users/niloofar/opt/anaconda3/lib/python3.7/site-packages/ipykernel_launcher.py:25: UserWarning: Implicit dimension choice for log_softmax has been deprecated. Change the call to include dim=X as an argument.\n"
     ]
    },
    {
     "name": "stdout",
     "output_type": "stream",
     "text": [
      "Epoch [1/10], Step [300/469], Loss: 0.2558, Accuracy: 91.41%\n",
      "F1: 0.9140946570168652  Precision: 0.9186685863156451  Recall: 0.9140625\n"
     ]
    },
    {
     "name": "stderr",
     "output_type": "stream",
     "text": [
      "/Users/niloofar/opt/anaconda3/lib/python3.7/site-packages/ipykernel_launcher.py:25: UserWarning: Implicit dimension choice for log_softmax has been deprecated. Change the call to include dim=X as an argument.\n"
     ]
    },
    {
     "name": "stdout",
     "output_type": "stream",
     "text": [
      "Epoch [1/10], Step [400/469], Loss: 0.2058, Accuracy: 92.97%\n",
      "F1: 0.929417100667613  Precision: 0.9331106240573153  Recall: 0.9296875\n"
     ]
    },
    {
     "name": "stderr",
     "output_type": "stream",
     "text": [
      "/Users/niloofar/opt/anaconda3/lib/python3.7/site-packages/ipykernel_launcher.py:25: UserWarning: Implicit dimension choice for log_softmax has been deprecated. Change the call to include dim=X as an argument.\n"
     ]
    },
    {
     "name": "stdout",
     "output_type": "stream",
     "text": [
      "Epoch [2/10], Step [100/469], Loss: 0.1605, Accuracy: 94.53%\n",
      "F1: 0.9460214194537796  Precision: 0.9507533482142857  Recall: 0.9453125\n"
     ]
    },
    {
     "name": "stderr",
     "output_type": "stream",
     "text": [
      "/Users/niloofar/opt/anaconda3/lib/python3.7/site-packages/ipykernel_launcher.py:25: UserWarning: Implicit dimension choice for log_softmax has been deprecated. Change the call to include dim=X as an argument.\n"
     ]
    },
    {
     "name": "stdout",
     "output_type": "stream",
     "text": [
      "Epoch [2/10], Step [200/469], Loss: 0.1004, Accuracy: 96.88%\n",
      "F1: 0.9686810714624015  Precision: 0.9705390963203463  Recall: 0.96875\n"
     ]
    },
    {
     "name": "stderr",
     "output_type": "stream",
     "text": [
      "/Users/niloofar/opt/anaconda3/lib/python3.7/site-packages/ipykernel_launcher.py:25: UserWarning: Implicit dimension choice for log_softmax has been deprecated. Change the call to include dim=X as an argument.\n"
     ]
    },
    {
     "name": "stdout",
     "output_type": "stream",
     "text": [
      "Epoch [2/10], Step [300/469], Loss: 0.1600, Accuracy: 93.75%\n",
      "F1: 0.9370912882504614  Precision: 0.9404188368055556  Recall: 0.9375\n"
     ]
    },
    {
     "name": "stderr",
     "output_type": "stream",
     "text": [
      "/Users/niloofar/opt/anaconda3/lib/python3.7/site-packages/ipykernel_launcher.py:25: UserWarning: Implicit dimension choice for log_softmax has been deprecated. Change the call to include dim=X as an argument.\n"
     ]
    },
    {
     "name": "stdout",
     "output_type": "stream",
     "text": [
      "Epoch [2/10], Step [400/469], Loss: 0.0587, Accuracy: 98.44%\n",
      "F1: 0.984380080904888  Precision: 0.9855339972527473  Recall: 0.984375\n"
     ]
    },
    {
     "name": "stderr",
     "output_type": "stream",
     "text": [
      "/Users/niloofar/opt/anaconda3/lib/python3.7/site-packages/ipykernel_launcher.py:25: UserWarning: Implicit dimension choice for log_softmax has been deprecated. Change the call to include dim=X as an argument.\n"
     ]
    },
    {
     "name": "stdout",
     "output_type": "stream",
     "text": [
      "Epoch [3/10], Step [100/469], Loss: 0.1101, Accuracy: 97.66%\n",
      "F1: 0.9765720437510366  Precision: 0.9777935606060606  Recall: 0.9765625\n"
     ]
    },
    {
     "name": "stderr",
     "output_type": "stream",
     "text": [
      "/Users/niloofar/opt/anaconda3/lib/python3.7/site-packages/ipykernel_launcher.py:25: UserWarning: Implicit dimension choice for log_softmax has been deprecated. Change the call to include dim=X as an argument.\n"
     ]
    },
    {
     "name": "stdout",
     "output_type": "stream",
     "text": [
      "Epoch [3/10], Step [200/469], Loss: 0.0843, Accuracy: 98.44%\n",
      "F1: 0.9841661587135725  Precision: 0.9854967948717949  Recall: 0.984375\n"
     ]
    },
    {
     "name": "stderr",
     "output_type": "stream",
     "text": [
      "/Users/niloofar/opt/anaconda3/lib/python3.7/site-packages/ipykernel_launcher.py:25: UserWarning: Implicit dimension choice for log_softmax has been deprecated. Change the call to include dim=X as an argument.\n"
     ]
    },
    {
     "name": "stdout",
     "output_type": "stream",
     "text": [
      "Epoch [3/10], Step [300/469], Loss: 0.0386, Accuracy: 98.44%\n",
      "F1: 0.984254079980417  Precision: 0.9854213169642857  Recall: 0.984375\n"
     ]
    },
    {
     "name": "stderr",
     "output_type": "stream",
     "text": [
      "/Users/niloofar/opt/anaconda3/lib/python3.7/site-packages/ipykernel_launcher.py:25: UserWarning: Implicit dimension choice for log_softmax has been deprecated. Change the call to include dim=X as an argument.\n"
     ]
    },
    {
     "name": "stdout",
     "output_type": "stream",
     "text": [
      "Epoch [3/10], Step [400/469], Loss: 0.0717, Accuracy: 96.09%\n",
      "F1: 0.9619136075744218  Precision: 0.9656328914141414  Recall: 0.9609375\n"
     ]
    },
    {
     "name": "stderr",
     "output_type": "stream",
     "text": [
      "/Users/niloofar/opt/anaconda3/lib/python3.7/site-packages/ipykernel_launcher.py:25: UserWarning: Implicit dimension choice for log_softmax has been deprecated. Change the call to include dim=X as an argument.\n"
     ]
    },
    {
     "name": "stdout",
     "output_type": "stream",
     "text": [
      "Epoch [4/10], Step [100/469], Loss: 0.1005, Accuracy: 97.66%\n",
      "F1: 0.9766376852661939  Precision: 0.9785523504273504  Recall: 0.9765625\n"
     ]
    },
    {
     "name": "stderr",
     "output_type": "stream",
     "text": [
      "/Users/niloofar/opt/anaconda3/lib/python3.7/site-packages/ipykernel_launcher.py:25: UserWarning: Implicit dimension choice for log_softmax has been deprecated. Change the call to include dim=X as an argument.\n"
     ]
    },
    {
     "name": "stdout",
     "output_type": "stream",
     "text": [
      "Epoch [4/10], Step [200/469], Loss: 0.0651, Accuracy: 97.66%\n",
      "F1: 0.9767440886331669  Precision: 0.979203869047619  Recall: 0.9765625\n"
     ]
    },
    {
     "name": "stderr",
     "output_type": "stream",
     "text": [
      "/Users/niloofar/opt/anaconda3/lib/python3.7/site-packages/ipykernel_launcher.py:25: UserWarning: Implicit dimension choice for log_softmax has been deprecated. Change the call to include dim=X as an argument.\n"
     ]
    },
    {
     "name": "stdout",
     "output_type": "stream",
     "text": [
      "Epoch [4/10], Step [300/469], Loss: 0.0800, Accuracy: 98.44%\n",
      "F1: 0.9844406691690041  Precision: 0.9856770833333333  Recall: 0.984375\n"
     ]
    },
    {
     "name": "stderr",
     "output_type": "stream",
     "text": [
      "/Users/niloofar/opt/anaconda3/lib/python3.7/site-packages/ipykernel_launcher.py:25: UserWarning: Implicit dimension choice for log_softmax has been deprecated. Change the call to include dim=X as an argument.\n"
     ]
    },
    {
     "name": "stdout",
     "output_type": "stream",
     "text": [
      "Epoch [4/10], Step [400/469], Loss: 0.1422, Accuracy: 97.66%\n",
      "F1: 0.9764382949125596  Precision: 0.9769736842105263  Recall: 0.9765625\n"
     ]
    },
    {
     "name": "stderr",
     "output_type": "stream",
     "text": [
      "/Users/niloofar/opt/anaconda3/lib/python3.7/site-packages/ipykernel_launcher.py:25: UserWarning: Implicit dimension choice for log_softmax has been deprecated. Change the call to include dim=X as an argument.\n"
     ]
    },
    {
     "name": "stdout",
     "output_type": "stream",
     "text": [
      "Epoch [5/10], Step [100/469], Loss: 0.0066, Accuracy: 100.00%\n",
      "F1: 1.0  Precision: 1.0  Recall: 1.0\n"
     ]
    },
    {
     "name": "stderr",
     "output_type": "stream",
     "text": [
      "/Users/niloofar/opt/anaconda3/lib/python3.7/site-packages/ipykernel_launcher.py:25: UserWarning: Implicit dimension choice for log_softmax has been deprecated. Change the call to include dim=X as an argument.\n"
     ]
    },
    {
     "name": "stdout",
     "output_type": "stream",
     "text": [
      "Epoch [5/10], Step [200/469], Loss: 0.0601, Accuracy: 98.44%\n",
      "F1: 0.9843270271395271  Precision: 0.9853665865384615  Recall: 0.984375\n"
     ]
    },
    {
     "name": "stderr",
     "output_type": "stream",
     "text": [
      "/Users/niloofar/opt/anaconda3/lib/python3.7/site-packages/ipykernel_launcher.py:25: UserWarning: Implicit dimension choice for log_softmax has been deprecated. Change the call to include dim=X as an argument.\n"
     ]
    },
    {
     "name": "stdout",
     "output_type": "stream",
     "text": [
      "Epoch [5/10], Step [300/469], Loss: 0.0338, Accuracy: 99.22%\n",
      "F1: 0.9921875  Precision: 0.9928977272727273  Recall: 0.9921875\n"
     ]
    },
    {
     "name": "stderr",
     "output_type": "stream",
     "text": [
      "/Users/niloofar/opt/anaconda3/lib/python3.7/site-packages/ipykernel_launcher.py:25: UserWarning: Implicit dimension choice for log_softmax has been deprecated. Change the call to include dim=X as an argument.\n"
     ]
    },
    {
     "name": "stdout",
     "output_type": "stream",
     "text": [
      "Epoch [5/10], Step [400/469], Loss: 0.0507, Accuracy: 98.44%\n",
      "F1: 0.9843311711079944  Precision: 0.98486328125  Recall: 0.984375\n"
     ]
    },
    {
     "name": "stderr",
     "output_type": "stream",
     "text": [
      "/Users/niloofar/opt/anaconda3/lib/python3.7/site-packages/ipykernel_launcher.py:25: UserWarning: Implicit dimension choice for log_softmax has been deprecated. Change the call to include dim=X as an argument.\n"
     ]
    },
    {
     "name": "stdout",
     "output_type": "stream",
     "text": [
      "Epoch [6/10], Step [100/469], Loss: 0.0243, Accuracy: 99.22%\n",
      "F1: 0.9919232293868921  Precision: 0.9925426136363636  Recall: 0.9921875\n"
     ]
    },
    {
     "name": "stderr",
     "output_type": "stream",
     "text": [
      "/Users/niloofar/opt/anaconda3/lib/python3.7/site-packages/ipykernel_launcher.py:25: UserWarning: Implicit dimension choice for log_softmax has been deprecated. Change the call to include dim=X as an argument.\n"
     ]
    },
    {
     "name": "stdout",
     "output_type": "stream",
     "text": [
      "Epoch [6/10], Step [200/469], Loss: 0.0243, Accuracy: 99.22%\n",
      "F1: 0.9922019009216589  Precision: 0.99267578125  Recall: 0.9921875\n"
     ]
    },
    {
     "name": "stderr",
     "output_type": "stream",
     "text": [
      "/Users/niloofar/opt/anaconda3/lib/python3.7/site-packages/ipykernel_launcher.py:25: UserWarning: Implicit dimension choice for log_softmax has been deprecated. Change the call to include dim=X as an argument.\n"
     ]
    },
    {
     "name": "stdout",
     "output_type": "stream",
     "text": [
      "Epoch [6/10], Step [300/469], Loss: 0.0160, Accuracy: 100.00%\n",
      "F1: 1.0  Precision: 1.0  Recall: 1.0\n"
     ]
    },
    {
     "name": "stderr",
     "output_type": "stream",
     "text": [
      "/Users/niloofar/opt/anaconda3/lib/python3.7/site-packages/ipykernel_launcher.py:25: UserWarning: Implicit dimension choice for log_softmax has been deprecated. Change the call to include dim=X as an argument.\n"
     ]
    },
    {
     "name": "stdout",
     "output_type": "stream",
     "text": [
      "Epoch [6/10], Step [400/469], Loss: 0.0219, Accuracy: 99.22%\n",
      "F1: 0.992267084040747  Precision: 0.99296875  Recall: 0.9921875\n"
     ]
    },
    {
     "name": "stderr",
     "output_type": "stream",
     "text": [
      "/Users/niloofar/opt/anaconda3/lib/python3.7/site-packages/ipykernel_launcher.py:25: UserWarning: Implicit dimension choice for log_softmax has been deprecated. Change the call to include dim=X as an argument.\n"
     ]
    },
    {
     "name": "stdout",
     "output_type": "stream",
     "text": [
      "Epoch [7/10], Step [100/469], Loss: 0.0053, Accuracy: 100.00%\n",
      "F1: 1.0  Precision: 1.0  Recall: 1.0\n"
     ]
    },
    {
     "name": "stderr",
     "output_type": "stream",
     "text": [
      "/Users/niloofar/opt/anaconda3/lib/python3.7/site-packages/ipykernel_launcher.py:25: UserWarning: Implicit dimension choice for log_softmax has been deprecated. Change the call to include dim=X as an argument.\n"
     ]
    },
    {
     "name": "stdout",
     "output_type": "stream",
     "text": [
      "Epoch [7/10], Step [200/469], Loss: 0.0237, Accuracy: 99.22%\n",
      "F1: 0.9919507575757576  Precision: 0.9926470588235294  Recall: 0.9921875\n"
     ]
    },
    {
     "name": "stderr",
     "output_type": "stream",
     "text": [
      "/Users/niloofar/opt/anaconda3/lib/python3.7/site-packages/ipykernel_launcher.py:25: UserWarning: Implicit dimension choice for log_softmax has been deprecated. Change the call to include dim=X as an argument.\n"
     ]
    },
    {
     "name": "stdout",
     "output_type": "stream",
     "text": [
      "Epoch [7/10], Step [300/469], Loss: 0.0455, Accuracy: 96.88%\n",
      "F1: 0.9687835011621104  Precision: 0.9719854287868994  Recall: 0.96875\n"
     ]
    },
    {
     "name": "stderr",
     "output_type": "stream",
     "text": [
      "/Users/niloofar/opt/anaconda3/lib/python3.7/site-packages/ipykernel_launcher.py:25: UserWarning: Implicit dimension choice for log_softmax has been deprecated. Change the call to include dim=X as an argument.\n"
     ]
    },
    {
     "name": "stdout",
     "output_type": "stream",
     "text": [
      "Epoch [7/10], Step [400/469], Loss: 0.0358, Accuracy: 99.22%\n",
      "F1: 0.9922389657444005  Precision: 0.9928385416666666  Recall: 0.9921875\n"
     ]
    },
    {
     "name": "stderr",
     "output_type": "stream",
     "text": [
      "/Users/niloofar/opt/anaconda3/lib/python3.7/site-packages/ipykernel_launcher.py:25: UserWarning: Implicit dimension choice for log_softmax has been deprecated. Change the call to include dim=X as an argument.\n"
     ]
    },
    {
     "name": "stdout",
     "output_type": "stream",
     "text": [
      "Epoch [8/10], Step [100/469], Loss: 0.0322, Accuracy: 98.44%\n",
      "F1: 0.9843539562289563  Precision: 0.9862351190476191  Recall: 0.984375\n"
     ]
    },
    {
     "name": "stderr",
     "output_type": "stream",
     "text": [
      "/Users/niloofar/opt/anaconda3/lib/python3.7/site-packages/ipykernel_launcher.py:25: UserWarning: Implicit dimension choice for log_softmax has been deprecated. Change the call to include dim=X as an argument.\n"
     ]
    },
    {
     "name": "stdout",
     "output_type": "stream",
     "text": [
      "Epoch [8/10], Step [200/469], Loss: 0.0808, Accuracy: 96.88%\n",
      "F1: 0.9687521762067042  Precision: 0.9715049342105264  Recall: 0.96875\n"
     ]
    },
    {
     "name": "stderr",
     "output_type": "stream",
     "text": [
      "/Users/niloofar/opt/anaconda3/lib/python3.7/site-packages/ipykernel_launcher.py:25: UserWarning: Implicit dimension choice for log_softmax has been deprecated. Change the call to include dim=X as an argument.\n"
     ]
    },
    {
     "name": "stdout",
     "output_type": "stream",
     "text": [
      "Epoch [8/10], Step [300/469], Loss: 0.0899, Accuracy: 97.66%\n",
      "F1: 0.9758656240273886  Precision: 0.9781125992063492  Recall: 0.9765625\n"
     ]
    },
    {
     "name": "stderr",
     "output_type": "stream",
     "text": [
      "/Users/niloofar/opt/anaconda3/lib/python3.7/site-packages/ipykernel_launcher.py:25: UserWarning: Implicit dimension choice for log_softmax has been deprecated. Change the call to include dim=X as an argument.\n"
     ]
    },
    {
     "name": "stdout",
     "output_type": "stream",
     "text": [
      "Epoch [8/10], Step [400/469], Loss: 0.1008, Accuracy: 96.09%\n",
      "F1: 0.9603279924626241  Precision: 0.9637803819444444  Recall: 0.9609375\n"
     ]
    },
    {
     "name": "stderr",
     "output_type": "stream",
     "text": [
      "/Users/niloofar/opt/anaconda3/lib/python3.7/site-packages/ipykernel_launcher.py:25: UserWarning: Implicit dimension choice for log_softmax has been deprecated. Change the call to include dim=X as an argument.\n"
     ]
    },
    {
     "name": "stdout",
     "output_type": "stream",
     "text": [
      "Epoch [9/10], Step [100/469], Loss: 0.0527, Accuracy: 98.44%\n",
      "F1: 0.98416911502849  Precision: 0.9860491071428571  Recall: 0.984375\n"
     ]
    },
    {
     "name": "stderr",
     "output_type": "stream",
     "text": [
      "/Users/niloofar/opt/anaconda3/lib/python3.7/site-packages/ipykernel_launcher.py:25: UserWarning: Implicit dimension choice for log_softmax has been deprecated. Change the call to include dim=X as an argument.\n"
     ]
    },
    {
     "name": "stdout",
     "output_type": "stream",
     "text": [
      "Epoch [9/10], Step [200/469], Loss: 0.0159, Accuracy: 99.22%\n",
      "F1: 0.9922826688815061  Precision: 0.9928977272727273  Recall: 0.9921875\n"
     ]
    },
    {
     "name": "stderr",
     "output_type": "stream",
     "text": [
      "/Users/niloofar/opt/anaconda3/lib/python3.7/site-packages/ipykernel_launcher.py:25: UserWarning: Implicit dimension choice for log_softmax has been deprecated. Change the call to include dim=X as an argument.\n"
     ]
    },
    {
     "name": "stdout",
     "output_type": "stream",
     "text": [
      "Epoch [9/10], Step [300/469], Loss: 0.0301, Accuracy: 99.22%\n",
      "F1: 0.9921875  Precision: 0.99296875  Recall: 0.9921875\n"
     ]
    },
    {
     "name": "stderr",
     "output_type": "stream",
     "text": [
      "/Users/niloofar/opt/anaconda3/lib/python3.7/site-packages/ipykernel_launcher.py:25: UserWarning: Implicit dimension choice for log_softmax has been deprecated. Change the call to include dim=X as an argument.\n"
     ]
    },
    {
     "name": "stdout",
     "output_type": "stream",
     "text": [
      "Epoch [9/10], Step [400/469], Loss: 0.0182, Accuracy: 100.00%\n",
      "F1: 1.0  Precision: 1.0  Recall: 1.0\n"
     ]
    },
    {
     "name": "stderr",
     "output_type": "stream",
     "text": [
      "/Users/niloofar/opt/anaconda3/lib/python3.7/site-packages/ipykernel_launcher.py:25: UserWarning: Implicit dimension choice for log_softmax has been deprecated. Change the call to include dim=X as an argument.\n"
     ]
    },
    {
     "name": "stdout",
     "output_type": "stream",
     "text": [
      "Epoch [10/10], Step [100/469], Loss: 0.0743, Accuracy: 97.66%\n",
      "F1: 0.9766599393186182  Precision: 0.9789751838235294  Recall: 0.9765625\n"
     ]
    },
    {
     "name": "stderr",
     "output_type": "stream",
     "text": [
      "/Users/niloofar/opt/anaconda3/lib/python3.7/site-packages/ipykernel_launcher.py:25: UserWarning: Implicit dimension choice for log_softmax has been deprecated. Change the call to include dim=X as an argument.\n"
     ]
    },
    {
     "name": "stdout",
     "output_type": "stream",
     "text": [
      "Epoch [10/10], Step [200/469], Loss: 0.0111, Accuracy: 99.22%\n",
      "F1: 0.9921130952380952  Precision: 0.9926215277777778  Recall: 0.9921875\n"
     ]
    },
    {
     "name": "stderr",
     "output_type": "stream",
     "text": [
      "/Users/niloofar/opt/anaconda3/lib/python3.7/site-packages/ipykernel_launcher.py:25: UserWarning: Implicit dimension choice for log_softmax has been deprecated. Change the call to include dim=X as an argument.\n"
     ]
    },
    {
     "name": "stdout",
     "output_type": "stream",
     "text": [
      "Epoch [10/10], Step [300/469], Loss: 0.1792, Accuracy: 95.31%\n",
      "F1: 0.9548646044876323  Precision: 0.962890625  Recall: 0.953125\n"
     ]
    },
    {
     "name": "stderr",
     "output_type": "stream",
     "text": [
      "/Users/niloofar/opt/anaconda3/lib/python3.7/site-packages/ipykernel_launcher.py:25: UserWarning: Implicit dimension choice for log_softmax has been deprecated. Change the call to include dim=X as an argument.\n"
     ]
    },
    {
     "name": "stdout",
     "output_type": "stream",
     "text": [
      "Epoch [10/10], Step [400/469], Loss: 0.0227, Accuracy: 99.22%\n",
      "F1: 0.9922457298136645  Precision: 0.9928385416666666  Recall: 0.9921875\n"
     ]
    },
    {
     "name": "stderr",
     "output_type": "stream",
     "text": [
      "/Users/niloofar/opt/anaconda3/lib/python3.7/site-packages/ipykernel_launcher.py:25: UserWarning: Implicit dimension choice for log_softmax has been deprecated. Change the call to include dim=X as an argument.\n"
     ]
    },
    {
     "name": "stdout",
     "output_type": "stream",
     "text": [
      "Epoch [1/10], Step [100/469], Loss: 0.4026, Accuracy: 88.28%\n",
      "F1: 0.882212608060005  Precision: 0.8903867616758242  Recall: 0.8828125\n"
     ]
    },
    {
     "name": "stderr",
     "output_type": "stream",
     "text": [
      "/Users/niloofar/opt/anaconda3/lib/python3.7/site-packages/ipykernel_launcher.py:25: UserWarning: Implicit dimension choice for log_softmax has been deprecated. Change the call to include dim=X as an argument.\n"
     ]
    },
    {
     "name": "stdout",
     "output_type": "stream",
     "text": [
      "Epoch [1/10], Step [200/469], Loss: 0.4106, Accuracy: 85.94%\n",
      "F1: 0.8578319078251728  Precision: 0.8630481038569273  Recall: 0.859375\n"
     ]
    },
    {
     "name": "stderr",
     "output_type": "stream",
     "text": [
      "/Users/niloofar/opt/anaconda3/lib/python3.7/site-packages/ipykernel_launcher.py:25: UserWarning: Implicit dimension choice for log_softmax has been deprecated. Change the call to include dim=X as an argument.\n"
     ]
    },
    {
     "name": "stdout",
     "output_type": "stream",
     "text": [
      "Epoch [1/10], Step [300/469], Loss: 0.1732, Accuracy: 94.53%\n",
      "F1: 0.9454833757581829  Precision: 0.9470486111111112  Recall: 0.9453125\n"
     ]
    },
    {
     "name": "stderr",
     "output_type": "stream",
     "text": [
      "/Users/niloofar/opt/anaconda3/lib/python3.7/site-packages/ipykernel_launcher.py:25: UserWarning: Implicit dimension choice for log_softmax has been deprecated. Change the call to include dim=X as an argument.\n"
     ]
    },
    {
     "name": "stdout",
     "output_type": "stream",
     "text": [
      "Epoch [1/10], Step [400/469], Loss: 0.1511, Accuracy: 94.53%\n",
      "F1: 0.9456852532679739  Precision: 0.9533511321195144  Recall: 0.9453125\n"
     ]
    },
    {
     "name": "stderr",
     "output_type": "stream",
     "text": [
      "/Users/niloofar/opt/anaconda3/lib/python3.7/site-packages/ipykernel_launcher.py:25: UserWarning: Implicit dimension choice for log_softmax has been deprecated. Change the call to include dim=X as an argument.\n"
     ]
    },
    {
     "name": "stdout",
     "output_type": "stream",
     "text": [
      "Epoch [2/10], Step [100/469], Loss: 0.1731, Accuracy: 95.31%\n",
      "F1: 0.9531177184114235  Precision: 0.9549696180555556  Recall: 0.953125\n"
     ]
    },
    {
     "name": "stderr",
     "output_type": "stream",
     "text": [
      "/Users/niloofar/opt/anaconda3/lib/python3.7/site-packages/ipykernel_launcher.py:25: UserWarning: Implicit dimension choice for log_softmax has been deprecated. Change the call to include dim=X as an argument.\n"
     ]
    },
    {
     "name": "stdout",
     "output_type": "stream",
     "text": [
      "Epoch [2/10], Step [200/469], Loss: 0.0537, Accuracy: 97.66%\n",
      "F1: 0.976683959598853  Precision: 0.9786604739832536  Recall: 0.9765625\n"
     ]
    },
    {
     "name": "stderr",
     "output_type": "stream",
     "text": [
      "/Users/niloofar/opt/anaconda3/lib/python3.7/site-packages/ipykernel_launcher.py:25: UserWarning: Implicit dimension choice for log_softmax has been deprecated. Change the call to include dim=X as an argument.\n"
     ]
    },
    {
     "name": "stdout",
     "output_type": "stream",
     "text": [
      "Epoch [2/10], Step [300/469], Loss: 0.0367, Accuracy: 99.22%\n",
      "F1: 0.992175925925926  Precision: 0.9927455357142857  Recall: 0.9921875\n"
     ]
    },
    {
     "name": "stderr",
     "output_type": "stream",
     "text": [
      "/Users/niloofar/opt/anaconda3/lib/python3.7/site-packages/ipykernel_launcher.py:25: UserWarning: Implicit dimension choice for log_softmax has been deprecated. Change the call to include dim=X as an argument.\n"
     ]
    },
    {
     "name": "stdout",
     "output_type": "stream",
     "text": [
      "Epoch [2/10], Step [400/469], Loss: 0.0929, Accuracy: 97.66%\n",
      "F1: 0.9767425033729381  Precision: 0.9781901041666666  Recall: 0.9765625\n"
     ]
    },
    {
     "name": "stderr",
     "output_type": "stream",
     "text": [
      "/Users/niloofar/opt/anaconda3/lib/python3.7/site-packages/ipykernel_launcher.py:25: UserWarning: Implicit dimension choice for log_softmax has been deprecated. Change the call to include dim=X as an argument.\n"
     ]
    },
    {
     "name": "stdout",
     "output_type": "stream",
     "text": [
      "Epoch [3/10], Step [100/469], Loss: 0.0915, Accuracy: 98.44%\n",
      "F1: 0.98434235423251  Precision: 0.985453869047619  Recall: 0.984375\n"
     ]
    },
    {
     "name": "stderr",
     "output_type": "stream",
     "text": [
      "/Users/niloofar/opt/anaconda3/lib/python3.7/site-packages/ipykernel_launcher.py:25: UserWarning: Implicit dimension choice for log_softmax has been deprecated. Change the call to include dim=X as an argument.\n"
     ]
    },
    {
     "name": "stdout",
     "output_type": "stream",
     "text": [
      "Epoch [3/10], Step [200/469], Loss: 0.0803, Accuracy: 97.66%\n",
      "F1: 0.9764773965141612  Precision: 0.9777715773809523  Recall: 0.9765625\n"
     ]
    },
    {
     "name": "stderr",
     "output_type": "stream",
     "text": [
      "/Users/niloofar/opt/anaconda3/lib/python3.7/site-packages/ipykernel_launcher.py:25: UserWarning: Implicit dimension choice for log_softmax has been deprecated. Change the call to include dim=X as an argument.\n"
     ]
    },
    {
     "name": "stdout",
     "output_type": "stream",
     "text": [
      "Epoch [3/10], Step [300/469], Loss: 0.0869, Accuracy: 96.88%\n",
      "F1: 0.9682326376141605  Precision: 0.9708139115021008  Recall: 0.96875\n"
     ]
    },
    {
     "name": "stderr",
     "output_type": "stream",
     "text": [
      "/Users/niloofar/opt/anaconda3/lib/python3.7/site-packages/ipykernel_launcher.py:25: UserWarning: Implicit dimension choice for log_softmax has been deprecated. Change the call to include dim=X as an argument.\n"
     ]
    },
    {
     "name": "stdout",
     "output_type": "stream",
     "text": [
      "Epoch [3/10], Step [400/469], Loss: 0.0697, Accuracy: 96.88%\n",
      "F1: 0.9681499574731866  Precision: 0.9712389823717948  Recall: 0.96875\n"
     ]
    },
    {
     "name": "stderr",
     "output_type": "stream",
     "text": [
      "/Users/niloofar/opt/anaconda3/lib/python3.7/site-packages/ipykernel_launcher.py:25: UserWarning: Implicit dimension choice for log_softmax has been deprecated. Change the call to include dim=X as an argument.\n"
     ]
    },
    {
     "name": "stdout",
     "output_type": "stream",
     "text": [
      "Epoch [4/10], Step [100/469], Loss: 0.0982, Accuracy: 96.88%\n",
      "F1: 0.9689194858978074  Precision: 0.9705946180555556  Recall: 0.96875\n"
     ]
    },
    {
     "name": "stderr",
     "output_type": "stream",
     "text": [
      "/Users/niloofar/opt/anaconda3/lib/python3.7/site-packages/ipykernel_launcher.py:25: UserWarning: Implicit dimension choice for log_softmax has been deprecated. Change the call to include dim=X as an argument.\n"
     ]
    },
    {
     "name": "stdout",
     "output_type": "stream",
     "text": [
      "Epoch [4/10], Step [200/469], Loss: 0.0870, Accuracy: 96.09%\n",
      "F1: 0.9613798384851017  Precision: 0.9631009615384616  Recall: 0.9609375\n"
     ]
    },
    {
     "name": "stderr",
     "output_type": "stream",
     "text": [
      "/Users/niloofar/opt/anaconda3/lib/python3.7/site-packages/ipykernel_launcher.py:25: UserWarning: Implicit dimension choice for log_softmax has been deprecated. Change the call to include dim=X as an argument.\n"
     ]
    },
    {
     "name": "stdout",
     "output_type": "stream",
     "text": [
      "Epoch [4/10], Step [300/469], Loss: 0.1399, Accuracy: 98.44%\n",
      "F1: 0.984323747756103  Precision: 0.9855468749999999  Recall: 0.984375\n"
     ]
    },
    {
     "name": "stderr",
     "output_type": "stream",
     "text": [
      "/Users/niloofar/opt/anaconda3/lib/python3.7/site-packages/ipykernel_launcher.py:25: UserWarning: Implicit dimension choice for log_softmax has been deprecated. Change the call to include dim=X as an argument.\n"
     ]
    },
    {
     "name": "stdout",
     "output_type": "stream",
     "text": [
      "Epoch [4/10], Step [400/469], Loss: 0.0366, Accuracy: 98.44%\n",
      "F1: 0.984375  Precision: 0.98515625  Recall: 0.984375\n"
     ]
    },
    {
     "name": "stderr",
     "output_type": "stream",
     "text": [
      "/Users/niloofar/opt/anaconda3/lib/python3.7/site-packages/ipykernel_launcher.py:25: UserWarning: Implicit dimension choice for log_softmax has been deprecated. Change the call to include dim=X as an argument.\n"
     ]
    },
    {
     "name": "stdout",
     "output_type": "stream",
     "text": [
      "Epoch [5/10], Step [100/469], Loss: 0.0485, Accuracy: 98.44%\n",
      "F1: 0.9843992486915044  Precision: 0.9857362689393939  Recall: 0.984375\n"
     ]
    },
    {
     "name": "stderr",
     "output_type": "stream",
     "text": [
      "/Users/niloofar/opt/anaconda3/lib/python3.7/site-packages/ipykernel_launcher.py:25: UserWarning: Implicit dimension choice for log_softmax has been deprecated. Change the call to include dim=X as an argument.\n"
     ]
    },
    {
     "name": "stdout",
     "output_type": "stream",
     "text": [
      "Epoch [5/10], Step [200/469], Loss: 0.0272, Accuracy: 99.22%\n",
      "F1: 0.9921623389694042  Precision: 0.9927455357142857  Recall: 0.9921875\n"
     ]
    },
    {
     "name": "stderr",
     "output_type": "stream",
     "text": [
      "/Users/niloofar/opt/anaconda3/lib/python3.7/site-packages/ipykernel_launcher.py:25: UserWarning: Implicit dimension choice for log_softmax has been deprecated. Change the call to include dim=X as an argument.\n"
     ]
    },
    {
     "name": "stdout",
     "output_type": "stream",
     "text": [
      "Epoch [5/10], Step [300/469], Loss: 0.1080, Accuracy: 98.44%\n",
      "F1: 0.9841163003663003  Precision: 0.9856861888111889  Recall: 0.984375\n"
     ]
    },
    {
     "name": "stderr",
     "output_type": "stream",
     "text": [
      "/Users/niloofar/opt/anaconda3/lib/python3.7/site-packages/ipykernel_launcher.py:25: UserWarning: Implicit dimension choice for log_softmax has been deprecated. Change the call to include dim=X as an argument.\n"
     ]
    },
    {
     "name": "stdout",
     "output_type": "stream",
     "text": [
      "Epoch [5/10], Step [400/469], Loss: 0.0827, Accuracy: 99.22%\n",
      "F1: 0.9921798631476051  Precision: 0.9926470588235294  Recall: 0.9921875\n"
     ]
    },
    {
     "name": "stderr",
     "output_type": "stream",
     "text": [
      "/Users/niloofar/opt/anaconda3/lib/python3.7/site-packages/ipykernel_launcher.py:25: UserWarning: Implicit dimension choice for log_softmax has been deprecated. Change the call to include dim=X as an argument.\n"
     ]
    },
    {
     "name": "stdout",
     "output_type": "stream",
     "text": [
      "Epoch [6/10], Step [100/469], Loss: 0.0380, Accuracy: 98.44%\n",
      "F1: 0.9843967038396386  Precision: 0.9856270032051282  Recall: 0.984375\n"
     ]
    },
    {
     "name": "stderr",
     "output_type": "stream",
     "text": [
      "/Users/niloofar/opt/anaconda3/lib/python3.7/site-packages/ipykernel_launcher.py:25: UserWarning: Implicit dimension choice for log_softmax has been deprecated. Change the call to include dim=X as an argument.\n"
     ]
    },
    {
     "name": "stdout",
     "output_type": "stream",
     "text": [
      "Epoch [6/10], Step [200/469], Loss: 0.0408, Accuracy: 97.66%\n",
      "F1: 0.9766442076798845  Precision: 0.9778145032051282  Recall: 0.9765625\n"
     ]
    },
    {
     "name": "stderr",
     "output_type": "stream",
     "text": [
      "/Users/niloofar/opt/anaconda3/lib/python3.7/site-packages/ipykernel_launcher.py:25: UserWarning: Implicit dimension choice for log_softmax has been deprecated. Change the call to include dim=X as an argument.\n"
     ]
    },
    {
     "name": "stdout",
     "output_type": "stream",
     "text": [
      "Epoch [6/10], Step [300/469], Loss: 0.1151, Accuracy: 96.88%\n",
      "F1: 0.9686762379777085  Precision: 0.9711963383838385  Recall: 0.96875\n"
     ]
    },
    {
     "name": "stderr",
     "output_type": "stream",
     "text": [
      "/Users/niloofar/opt/anaconda3/lib/python3.7/site-packages/ipykernel_launcher.py:25: UserWarning: Implicit dimension choice for log_softmax has been deprecated. Change the call to include dim=X as an argument.\n"
     ]
    },
    {
     "name": "stdout",
     "output_type": "stream",
     "text": [
      "Epoch [6/10], Step [400/469], Loss: 0.0520, Accuracy: 98.44%\n",
      "F1: 0.9844411057692308  Precision: 0.986092032967033  Recall: 0.984375\n"
     ]
    },
    {
     "name": "stderr",
     "output_type": "stream",
     "text": [
      "/Users/niloofar/opt/anaconda3/lib/python3.7/site-packages/ipykernel_launcher.py:25: UserWarning: Implicit dimension choice for log_softmax has been deprecated. Change the call to include dim=X as an argument.\n"
     ]
    },
    {
     "name": "stdout",
     "output_type": "stream",
     "text": [
      "Epoch [7/10], Step [100/469], Loss: 0.0230, Accuracy: 99.22%\n",
      "F1: 0.9924310064935065  Precision: 0.9934895833333334  Recall: 0.9921875\n"
     ]
    },
    {
     "name": "stderr",
     "output_type": "stream",
     "text": [
      "/Users/niloofar/opt/anaconda3/lib/python3.7/site-packages/ipykernel_launcher.py:25: UserWarning: Implicit dimension choice for log_softmax has been deprecated. Change the call to include dim=X as an argument.\n"
     ]
    },
    {
     "name": "stdout",
     "output_type": "stream",
     "text": [
      "Epoch [7/10], Step [200/469], Loss: 0.0832, Accuracy: 97.66%\n",
      "F1: 0.976514896953405  Precision: 0.97802734375  Recall: 0.9765625\n"
     ]
    },
    {
     "name": "stderr",
     "output_type": "stream",
     "text": [
      "/Users/niloofar/opt/anaconda3/lib/python3.7/site-packages/ipykernel_launcher.py:25: UserWarning: Implicit dimension choice for log_softmax has been deprecated. Change the call to include dim=X as an argument.\n"
     ]
    },
    {
     "name": "stdout",
     "output_type": "stream",
     "text": [
      "Epoch [7/10], Step [300/469], Loss: 0.0498, Accuracy: 97.66%\n",
      "F1: 0.9763164842549923  Precision: 0.9777610085227273  Recall: 0.9765625\n"
     ]
    },
    {
     "name": "stderr",
     "output_type": "stream",
     "text": [
      "/Users/niloofar/opt/anaconda3/lib/python3.7/site-packages/ipykernel_launcher.py:25: UserWarning: Implicit dimension choice for log_softmax has been deprecated. Change the call to include dim=X as an argument.\n"
     ]
    },
    {
     "name": "stdout",
     "output_type": "stream",
     "text": [
      "Epoch [7/10], Step [400/469], Loss: 0.0188, Accuracy: 99.22%\n",
      "F1: 0.9924242424242424  Precision: 0.9934895833333334  Recall: 0.9921875\n"
     ]
    },
    {
     "name": "stderr",
     "output_type": "stream",
     "text": [
      "/Users/niloofar/opt/anaconda3/lib/python3.7/site-packages/ipykernel_launcher.py:25: UserWarning: Implicit dimension choice for log_softmax has been deprecated. Change the call to include dim=X as an argument.\n"
     ]
    },
    {
     "name": "stdout",
     "output_type": "stream",
     "text": [
      "Epoch [8/10], Step [100/469], Loss: 0.0394, Accuracy: 99.22%\n",
      "F1: 0.9921616521918941  Precision: 0.992578125  Recall: 0.9921875\n"
     ]
    },
    {
     "name": "stderr",
     "output_type": "stream",
     "text": [
      "/Users/niloofar/opt/anaconda3/lib/python3.7/site-packages/ipykernel_launcher.py:25: UserWarning: Implicit dimension choice for log_softmax has been deprecated. Change the call to include dim=X as an argument.\n"
     ]
    },
    {
     "name": "stdout",
     "output_type": "stream",
     "text": [
      "Epoch [8/10], Step [200/469], Loss: 0.0200, Accuracy: 99.22%\n",
      "F1: 0.9921130952380952  Precision: 0.9926215277777778  Recall: 0.9921875\n"
     ]
    },
    {
     "name": "stderr",
     "output_type": "stream",
     "text": [
      "/Users/niloofar/opt/anaconda3/lib/python3.7/site-packages/ipykernel_launcher.py:25: UserWarning: Implicit dimension choice for log_softmax has been deprecated. Change the call to include dim=X as an argument.\n"
     ]
    },
    {
     "name": "stdout",
     "output_type": "stream",
     "text": [
      "Epoch [8/10], Step [300/469], Loss: 0.0275, Accuracy: 99.22%\n",
      "F1: 0.992100279106858  Precision: 0.9926470588235294  Recall: 0.9921875\n"
     ]
    },
    {
     "name": "stderr",
     "output_type": "stream",
     "text": [
      "/Users/niloofar/opt/anaconda3/lib/python3.7/site-packages/ipykernel_launcher.py:25: UserWarning: Implicit dimension choice for log_softmax has been deprecated. Change the call to include dim=X as an argument.\n"
     ]
    },
    {
     "name": "stdout",
     "output_type": "stream",
     "text": [
      "Epoch [8/10], Step [400/469], Loss: 0.0119, Accuracy: 100.00%\n",
      "F1: 1.0  Precision: 1.0  Recall: 1.0\n"
     ]
    },
    {
     "name": "stderr",
     "output_type": "stream",
     "text": [
      "/Users/niloofar/opt/anaconda3/lib/python3.7/site-packages/ipykernel_launcher.py:25: UserWarning: Implicit dimension choice for log_softmax has been deprecated. Change the call to include dim=X as an argument.\n"
     ]
    },
    {
     "name": "stdout",
     "output_type": "stream",
     "text": [
      "Epoch [9/10], Step [100/469], Loss: 0.0103, Accuracy: 100.00%\n",
      "F1: 1.0  Precision: 1.0  Recall: 1.0\n"
     ]
    },
    {
     "name": "stderr",
     "output_type": "stream",
     "text": [
      "/Users/niloofar/opt/anaconda3/lib/python3.7/site-packages/ipykernel_launcher.py:25: UserWarning: Implicit dimension choice for log_softmax has been deprecated. Change the call to include dim=X as an argument.\n"
     ]
    },
    {
     "name": "stdout",
     "output_type": "stream",
     "text": [
      "Epoch [9/10], Step [200/469], Loss: 0.0423, Accuracy: 99.22%\n",
      "F1: 0.992107915959253  Precision: 0.99267578125  Recall: 0.9921875\n"
     ]
    },
    {
     "name": "stderr",
     "output_type": "stream",
     "text": [
      "/Users/niloofar/opt/anaconda3/lib/python3.7/site-packages/ipykernel_launcher.py:25: UserWarning: Implicit dimension choice for log_softmax has been deprecated. Change the call to include dim=X as an argument.\n"
     ]
    },
    {
     "name": "stdout",
     "output_type": "stream",
     "text": [
      "Epoch [9/10], Step [300/469], Loss: 0.0862, Accuracy: 96.88%\n",
      "F1: 0.9685418531753788  Precision: 0.9704790900735294  Recall: 0.96875\n"
     ]
    },
    {
     "name": "stderr",
     "output_type": "stream",
     "text": [
      "/Users/niloofar/opt/anaconda3/lib/python3.7/site-packages/ipykernel_launcher.py:25: UserWarning: Implicit dimension choice for log_softmax has been deprecated. Change the call to include dim=X as an argument.\n"
     ]
    },
    {
     "name": "stdout",
     "output_type": "stream",
     "text": [
      "Epoch [9/10], Step [400/469], Loss: 0.0312, Accuracy: 98.44%\n",
      "F1: 0.9841416094973969  Precision: 0.98525390625  Recall: 0.984375\n"
     ]
    },
    {
     "name": "stderr",
     "output_type": "stream",
     "text": [
      "/Users/niloofar/opt/anaconda3/lib/python3.7/site-packages/ipykernel_launcher.py:25: UserWarning: Implicit dimension choice for log_softmax has been deprecated. Change the call to include dim=X as an argument.\n"
     ]
    },
    {
     "name": "stdout",
     "output_type": "stream",
     "text": [
      "Epoch [10/10], Step [100/469], Loss: 0.0267, Accuracy: 99.22%\n",
      "F1: 0.9922312675070029  Precision: 0.9930555555555556  Recall: 0.9921875\n"
     ]
    },
    {
     "name": "stderr",
     "output_type": "stream",
     "text": [
      "/Users/niloofar/opt/anaconda3/lib/python3.7/site-packages/ipykernel_launcher.py:25: UserWarning: Implicit dimension choice for log_softmax has been deprecated. Change the call to include dim=X as an argument.\n"
     ]
    },
    {
     "name": "stdout",
     "output_type": "stream",
     "text": [
      "Epoch [10/10], Step [200/469], Loss: 0.0334, Accuracy: 98.44%\n",
      "F1: 0.984375  Precision: 0.9850852272727273  Recall: 0.984375\n"
     ]
    },
    {
     "name": "stderr",
     "output_type": "stream",
     "text": [
      "/Users/niloofar/opt/anaconda3/lib/python3.7/site-packages/ipykernel_launcher.py:25: UserWarning: Implicit dimension choice for log_softmax has been deprecated. Change the call to include dim=X as an argument.\n"
     ]
    },
    {
     "name": "stdout",
     "output_type": "stream",
     "text": [
      "Epoch [10/10], Step [300/469], Loss: 0.0693, Accuracy: 98.44%\n",
      "F1: 0.9844322560895703  Precision: 0.9858010912698413  Recall: 0.984375\n"
     ]
    },
    {
     "name": "stderr",
     "output_type": "stream",
     "text": [
      "/Users/niloofar/opt/anaconda3/lib/python3.7/site-packages/ipykernel_launcher.py:25: UserWarning: Implicit dimension choice for log_softmax has been deprecated. Change the call to include dim=X as an argument.\n"
     ]
    },
    {
     "name": "stdout",
     "output_type": "stream",
     "text": [
      "Epoch [10/10], Step [400/469], Loss: 0.0213, Accuracy: 99.22%\n",
      "F1: 0.9921436711079944  Precision: 0.99267578125  Recall: 0.9921875\n"
     ]
    },
    {
     "name": "stderr",
     "output_type": "stream",
     "text": [
      "/Users/niloofar/opt/anaconda3/lib/python3.7/site-packages/ipykernel_launcher.py:25: UserWarning: Implicit dimension choice for log_softmax has been deprecated. Change the call to include dim=X as an argument.\n"
     ]
    },
    {
     "name": "stdout",
     "output_type": "stream",
     "text": [
      "Epoch [1/10], Step [100/469], Loss: 1.1385, Accuracy: 78.91%\n",
      "F1: 0.7607426359501653  Precision: 0.7461647847081645  Recall: 0.7890625\n"
     ]
    },
    {
     "name": "stderr",
     "output_type": "stream",
     "text": [
      "/Users/niloofar/opt/anaconda3/lib/python3.7/site-packages/sklearn/metrics/_classification.py:1245: UndefinedMetricWarning: Precision is ill-defined and being set to 0.0 in labels with no predicted samples. Use `zero_division` parameter to control this behavior.\n",
      "  _warn_prf(average, modifier, msg_start, len(result))\n",
      "/Users/niloofar/opt/anaconda3/lib/python3.7/site-packages/ipykernel_launcher.py:25: UserWarning: Implicit dimension choice for log_softmax has been deprecated. Change the call to include dim=X as an argument.\n"
     ]
    },
    {
     "name": "stdout",
     "output_type": "stream",
     "text": [
      "Epoch [1/10], Step [200/469], Loss: 0.9861, Accuracy: 83.59%\n",
      "F1: 0.8000760898114728  Precision: 0.7768432311246868  Recall: 0.8359375\n"
     ]
    },
    {
     "name": "stderr",
     "output_type": "stream",
     "text": [
      "/Users/niloofar/opt/anaconda3/lib/python3.7/site-packages/sklearn/metrics/_classification.py:1245: UndefinedMetricWarning: Precision is ill-defined and being set to 0.0 in labels with no predicted samples. Use `zero_division` parameter to control this behavior.\n",
      "  _warn_prf(average, modifier, msg_start, len(result))\n",
      "/Users/niloofar/opt/anaconda3/lib/python3.7/site-packages/ipykernel_launcher.py:25: UserWarning: Implicit dimension choice for log_softmax has been deprecated. Change the call to include dim=X as an argument.\n"
     ]
    },
    {
     "name": "stdout",
     "output_type": "stream",
     "text": [
      "Epoch [1/10], Step [300/469], Loss: 0.6424, Accuracy: 89.06%\n",
      "F1: 0.8604733250430329  Precision: 0.8368558114035087  Recall: 0.890625\n"
     ]
    },
    {
     "name": "stderr",
     "output_type": "stream",
     "text": [
      "/Users/niloofar/opt/anaconda3/lib/python3.7/site-packages/sklearn/metrics/_classification.py:1245: UndefinedMetricWarning: Precision is ill-defined and being set to 0.0 in labels with no predicted samples. Use `zero_division` parameter to control this behavior.\n",
      "  _warn_prf(average, modifier, msg_start, len(result))\n",
      "/Users/niloofar/opt/anaconda3/lib/python3.7/site-packages/ipykernel_launcher.py:25: UserWarning: Implicit dimension choice for log_softmax has been deprecated. Change the call to include dim=X as an argument.\n"
     ]
    },
    {
     "name": "stdout",
     "output_type": "stream",
     "text": [
      "Epoch [1/10], Step [400/469], Loss: 1.0066, Accuracy: 85.16%\n",
      "F1: 0.8019622405806617  Precision: 0.7707112746854594  Recall: 0.8515625\n"
     ]
    },
    {
     "name": "stderr",
     "output_type": "stream",
     "text": [
      "/Users/niloofar/opt/anaconda3/lib/python3.7/site-packages/sklearn/metrics/_classification.py:1245: UndefinedMetricWarning: Precision is ill-defined and being set to 0.0 in labels with no predicted samples. Use `zero_division` parameter to control this behavior.\n",
      "  _warn_prf(average, modifier, msg_start, len(result))\n",
      "/Users/niloofar/opt/anaconda3/lib/python3.7/site-packages/ipykernel_launcher.py:25: UserWarning: Implicit dimension choice for log_softmax has been deprecated. Change the call to include dim=X as an argument.\n"
     ]
    },
    {
     "name": "stdout",
     "output_type": "stream",
     "text": [
      "Epoch [2/10], Step [100/469], Loss: 1.1338, Accuracy: 84.38%\n",
      "F1: 0.7860013187185444  Precision: 0.7434084642379679  Recall: 0.84375\n"
     ]
    },
    {
     "name": "stderr",
     "output_type": "stream",
     "text": [
      "/Users/niloofar/opt/anaconda3/lib/python3.7/site-packages/sklearn/metrics/_classification.py:1245: UndefinedMetricWarning: Precision is ill-defined and being set to 0.0 in labels with no predicted samples. Use `zero_division` parameter to control this behavior.\n",
      "  _warn_prf(average, modifier, msg_start, len(result))\n",
      "/Users/niloofar/opt/anaconda3/lib/python3.7/site-packages/ipykernel_launcher.py:25: UserWarning: Implicit dimension choice for log_softmax has been deprecated. Change the call to include dim=X as an argument.\n"
     ]
    },
    {
     "name": "stdout",
     "output_type": "stream",
     "text": [
      "Epoch [2/10], Step [200/469], Loss: 0.7334, Accuracy: 88.28%\n",
      "F1: 0.8460095646121352  Precision: 0.8160191556044037  Recall: 0.8828125\n"
     ]
    },
    {
     "name": "stderr",
     "output_type": "stream",
     "text": [
      "/Users/niloofar/opt/anaconda3/lib/python3.7/site-packages/sklearn/metrics/_classification.py:1245: UndefinedMetricWarning: Precision is ill-defined and being set to 0.0 in labels with no predicted samples. Use `zero_division` parameter to control this behavior.\n",
      "  _warn_prf(average, modifier, msg_start, len(result))\n",
      "/Users/niloofar/opt/anaconda3/lib/python3.7/site-packages/ipykernel_launcher.py:25: UserWarning: Implicit dimension choice for log_softmax has been deprecated. Change the call to include dim=X as an argument.\n"
     ]
    },
    {
     "name": "stdout",
     "output_type": "stream",
     "text": [
      "Epoch [2/10], Step [300/469], Loss: 0.7250, Accuracy: 89.06%\n",
      "F1: 0.8584549753289473  Precision: 0.8362966753936423  Recall: 0.890625\n"
     ]
    },
    {
     "name": "stderr",
     "output_type": "stream",
     "text": [
      "/Users/niloofar/opt/anaconda3/lib/python3.7/site-packages/sklearn/metrics/_classification.py:1245: UndefinedMetricWarning: Precision is ill-defined and being set to 0.0 in labels with no predicted samples. Use `zero_division` parameter to control this behavior.\n",
      "  _warn_prf(average, modifier, msg_start, len(result))\n",
      "/Users/niloofar/opt/anaconda3/lib/python3.7/site-packages/ipykernel_launcher.py:25: UserWarning: Implicit dimension choice for log_softmax has been deprecated. Change the call to include dim=X as an argument.\n"
     ]
    },
    {
     "name": "stdout",
     "output_type": "stream",
     "text": [
      "Epoch [2/10], Step [400/469], Loss: 0.5225, Accuracy: 90.62%\n",
      "F1: 0.8770915032679739  Precision: 0.8530551320025004  Recall: 0.90625\n"
     ]
    },
    {
     "name": "stderr",
     "output_type": "stream",
     "text": [
      "/Users/niloofar/opt/anaconda3/lib/python3.7/site-packages/sklearn/metrics/_classification.py:1245: UndefinedMetricWarning: Precision is ill-defined and being set to 0.0 in labels with no predicted samples. Use `zero_division` parameter to control this behavior.\n",
      "  _warn_prf(average, modifier, msg_start, len(result))\n",
      "/Users/niloofar/opt/anaconda3/lib/python3.7/site-packages/ipykernel_launcher.py:25: UserWarning: Implicit dimension choice for log_softmax has been deprecated. Change the call to include dim=X as an argument.\n"
     ]
    },
    {
     "name": "stdout",
     "output_type": "stream",
     "text": [
      "Epoch [3/10], Step [100/469], Loss: 0.7932, Accuracy: 87.50%\n",
      "F1: 0.8411263577279202  Precision: 0.8235164141414141  Recall: 0.875\n"
     ]
    },
    {
     "name": "stderr",
     "output_type": "stream",
     "text": [
      "/Users/niloofar/opt/anaconda3/lib/python3.7/site-packages/sklearn/metrics/_classification.py:1245: UndefinedMetricWarning: Precision is ill-defined and being set to 0.0 in labels with no predicted samples. Use `zero_division` parameter to control this behavior.\n",
      "  _warn_prf(average, modifier, msg_start, len(result))\n",
      "/Users/niloofar/opt/anaconda3/lib/python3.7/site-packages/ipykernel_launcher.py:25: UserWarning: Implicit dimension choice for log_softmax has been deprecated. Change the call to include dim=X as an argument.\n"
     ]
    },
    {
     "name": "stdout",
     "output_type": "stream",
     "text": [
      "Epoch [3/10], Step [200/469], Loss: 0.8495, Accuracy: 87.50%\n",
      "F1: 0.8288972591191298  Precision: 0.7977627840909092  Recall: 0.875\n"
     ]
    },
    {
     "name": "stderr",
     "output_type": "stream",
     "text": [
      "/Users/niloofar/opt/anaconda3/lib/python3.7/site-packages/sklearn/metrics/_classification.py:1245: UndefinedMetricWarning: Precision is ill-defined and being set to 0.0 in labels with no predicted samples. Use `zero_division` parameter to control this behavior.\n",
      "  _warn_prf(average, modifier, msg_start, len(result))\n",
      "/Users/niloofar/opt/anaconda3/lib/python3.7/site-packages/ipykernel_launcher.py:25: UserWarning: Implicit dimension choice for log_softmax has been deprecated. Change the call to include dim=X as an argument.\n"
     ]
    },
    {
     "name": "stdout",
     "output_type": "stream",
     "text": [
      "Epoch [3/10], Step [300/469], Loss: 1.0134, Accuracy: 85.16%\n",
      "F1: 0.7947585715648375  Precision: 0.7519491465384461  Recall: 0.8515625\n"
     ]
    },
    {
     "name": "stderr",
     "output_type": "stream",
     "text": [
      "/Users/niloofar/opt/anaconda3/lib/python3.7/site-packages/sklearn/metrics/_classification.py:1245: UndefinedMetricWarning: Precision is ill-defined and being set to 0.0 in labels with no predicted samples. Use `zero_division` parameter to control this behavior.\n",
      "  _warn_prf(average, modifier, msg_start, len(result))\n",
      "/Users/niloofar/opt/anaconda3/lib/python3.7/site-packages/ipykernel_launcher.py:25: UserWarning: Implicit dimension choice for log_softmax has been deprecated. Change the call to include dim=X as an argument.\n"
     ]
    },
    {
     "name": "stdout",
     "output_type": "stream",
     "text": [
      "Epoch [3/10], Step [400/469], Loss: 0.3085, Accuracy: 96.09%\n",
      "F1: 0.9429598721590909  Precision: 0.9276194852941176  Recall: 0.9609375\n"
     ]
    },
    {
     "name": "stderr",
     "output_type": "stream",
     "text": [
      "/Users/niloofar/opt/anaconda3/lib/python3.7/site-packages/sklearn/metrics/_classification.py:1245: UndefinedMetricWarning: Precision is ill-defined and being set to 0.0 in labels with no predicted samples. Use `zero_division` parameter to control this behavior.\n",
      "  _warn_prf(average, modifier, msg_start, len(result))\n",
      "/Users/niloofar/opt/anaconda3/lib/python3.7/site-packages/ipykernel_launcher.py:25: UserWarning: Implicit dimension choice for log_softmax has been deprecated. Change the call to include dim=X as an argument.\n"
     ]
    },
    {
     "name": "stdout",
     "output_type": "stream",
     "text": [
      "Epoch [4/10], Step [100/469], Loss: 0.6594, Accuracy: 90.62%\n",
      "F1: 0.8690971061720143  Precision: 0.8396577380952381  Recall: 0.90625\n"
     ]
    },
    {
     "name": "stderr",
     "output_type": "stream",
     "text": [
      "/Users/niloofar/opt/anaconda3/lib/python3.7/site-packages/sklearn/metrics/_classification.py:1245: UndefinedMetricWarning: Precision is ill-defined and being set to 0.0 in labels with no predicted samples. Use `zero_division` parameter to control this behavior.\n",
      "  _warn_prf(average, modifier, msg_start, len(result))\n",
      "/Users/niloofar/opt/anaconda3/lib/python3.7/site-packages/ipykernel_launcher.py:25: UserWarning: Implicit dimension choice for log_softmax has been deprecated. Change the call to include dim=X as an argument.\n"
     ]
    },
    {
     "name": "stdout",
     "output_type": "stream",
     "text": [
      "Epoch [4/10], Step [200/469], Loss: 0.6846, Accuracy: 89.06%\n",
      "F1: 0.8516886603549645  Precision: 0.8206466215510033  Recall: 0.890625\n"
     ]
    },
    {
     "name": "stderr",
     "output_type": "stream",
     "text": [
      "/Users/niloofar/opt/anaconda3/lib/python3.7/site-packages/sklearn/metrics/_classification.py:1245: UndefinedMetricWarning: Precision is ill-defined and being set to 0.0 in labels with no predicted samples. Use `zero_division` parameter to control this behavior.\n",
      "  _warn_prf(average, modifier, msg_start, len(result))\n",
      "/Users/niloofar/opt/anaconda3/lib/python3.7/site-packages/ipykernel_launcher.py:25: UserWarning: Implicit dimension choice for log_softmax has been deprecated. Change the call to include dim=X as an argument.\n"
     ]
    },
    {
     "name": "stdout",
     "output_type": "stream",
     "text": [
      "Epoch [4/10], Step [300/469], Loss: 0.9250, Accuracy: 86.72%\n",
      "F1: 0.8205416807527609  Precision: 0.7898977299253035  Recall: 0.8671875\n"
     ]
    },
    {
     "name": "stderr",
     "output_type": "stream",
     "text": [
      "/Users/niloofar/opt/anaconda3/lib/python3.7/site-packages/sklearn/metrics/_classification.py:1245: UndefinedMetricWarning: Precision is ill-defined and being set to 0.0 in labels with no predicted samples. Use `zero_division` parameter to control this behavior.\n",
      "  _warn_prf(average, modifier, msg_start, len(result))\n",
      "/Users/niloofar/opt/anaconda3/lib/python3.7/site-packages/ipykernel_launcher.py:25: UserWarning: Implicit dimension choice for log_softmax has been deprecated. Change the call to include dim=X as an argument.\n"
     ]
    },
    {
     "name": "stdout",
     "output_type": "stream",
     "text": [
      "Epoch [4/10], Step [400/469], Loss: 0.8896, Accuracy: 86.72%\n",
      "F1: 0.8160588794429255  Precision: 0.7753205128205128  Recall: 0.8671875\n"
     ]
    },
    {
     "name": "stderr",
     "output_type": "stream",
     "text": [
      "/Users/niloofar/opt/anaconda3/lib/python3.7/site-packages/sklearn/metrics/_classification.py:1245: UndefinedMetricWarning: Precision is ill-defined and being set to 0.0 in labels with no predicted samples. Use `zero_division` parameter to control this behavior.\n",
      "  _warn_prf(average, modifier, msg_start, len(result))\n",
      "/Users/niloofar/opt/anaconda3/lib/python3.7/site-packages/ipykernel_launcher.py:25: UserWarning: Implicit dimension choice for log_softmax has been deprecated. Change the call to include dim=X as an argument.\n"
     ]
    },
    {
     "name": "stdout",
     "output_type": "stream",
     "text": [
      "Epoch [5/10], Step [100/469], Loss: 0.5268, Accuracy: 91.41%\n",
      "F1: 0.885481557531884  Precision: 0.8662636408730158  Recall: 0.9140625\n"
     ]
    },
    {
     "name": "stderr",
     "output_type": "stream",
     "text": [
      "/Users/niloofar/opt/anaconda3/lib/python3.7/site-packages/sklearn/metrics/_classification.py:1245: UndefinedMetricWarning: Precision is ill-defined and being set to 0.0 in labels with no predicted samples. Use `zero_division` parameter to control this behavior.\n",
      "  _warn_prf(average, modifier, msg_start, len(result))\n",
      "/Users/niloofar/opt/anaconda3/lib/python3.7/site-packages/ipykernel_launcher.py:25: UserWarning: Implicit dimension choice for log_softmax has been deprecated. Change the call to include dim=X as an argument.\n"
     ]
    },
    {
     "name": "stdout",
     "output_type": "stream",
     "text": [
      "Epoch [5/10], Step [200/469], Loss: 0.7773, Accuracy: 89.06%\n",
      "F1: 0.8457406957458357  Precision: 0.8090300429382279  Recall: 0.890625\n"
     ]
    },
    {
     "name": "stderr",
     "output_type": "stream",
     "text": [
      "/Users/niloofar/opt/anaconda3/lib/python3.7/site-packages/sklearn/metrics/_classification.py:1245: UndefinedMetricWarning: Precision is ill-defined and being set to 0.0 in labels with no predicted samples. Use `zero_division` parameter to control this behavior.\n",
      "  _warn_prf(average, modifier, msg_start, len(result))\n",
      "/Users/niloofar/opt/anaconda3/lib/python3.7/site-packages/ipykernel_launcher.py:25: UserWarning: Implicit dimension choice for log_softmax has been deprecated. Change the call to include dim=X as an argument.\n"
     ]
    },
    {
     "name": "stdout",
     "output_type": "stream",
     "text": [
      "Epoch [5/10], Step [300/469], Loss: 0.5734, Accuracy: 91.41%\n",
      "F1: 0.8833090475211703  Precision: 0.8605095603946706  Recall: 0.9140625\n"
     ]
    },
    {
     "name": "stderr",
     "output_type": "stream",
     "text": [
      "/Users/niloofar/opt/anaconda3/lib/python3.7/site-packages/sklearn/metrics/_classification.py:1245: UndefinedMetricWarning: Precision is ill-defined and being set to 0.0 in labels with no predicted samples. Use `zero_division` parameter to control this behavior.\n",
      "  _warn_prf(average, modifier, msg_start, len(result))\n",
      "/Users/niloofar/opt/anaconda3/lib/python3.7/site-packages/ipykernel_launcher.py:25: UserWarning: Implicit dimension choice for log_softmax has been deprecated. Change the call to include dim=X as an argument.\n"
     ]
    },
    {
     "name": "stdout",
     "output_type": "stream",
     "text": [
      "Epoch [5/10], Step [400/469], Loss: 0.6355, Accuracy: 91.41%\n",
      "F1: 0.8752386486627022  Precision: 0.8431368517801857  Recall: 0.9140625\n"
     ]
    },
    {
     "name": "stderr",
     "output_type": "stream",
     "text": [
      "/Users/niloofar/opt/anaconda3/lib/python3.7/site-packages/sklearn/metrics/_classification.py:1245: UndefinedMetricWarning: Precision is ill-defined and being set to 0.0 in labels with no predicted samples. Use `zero_division` parameter to control this behavior.\n",
      "  _warn_prf(average, modifier, msg_start, len(result))\n",
      "/Users/niloofar/opt/anaconda3/lib/python3.7/site-packages/ipykernel_launcher.py:25: UserWarning: Implicit dimension choice for log_softmax has been deprecated. Change the call to include dim=X as an argument.\n"
     ]
    },
    {
     "name": "stdout",
     "output_type": "stream",
     "text": [
      "Epoch [6/10], Step [100/469], Loss: 0.7186, Accuracy: 88.28%\n",
      "F1: 0.8463438361281432  Precision: 0.8216827876984126  Recall: 0.8828125\n"
     ]
    },
    {
     "name": "stderr",
     "output_type": "stream",
     "text": [
      "/Users/niloofar/opt/anaconda3/lib/python3.7/site-packages/sklearn/metrics/_classification.py:1245: UndefinedMetricWarning: Precision is ill-defined and being set to 0.0 in labels with no predicted samples. Use `zero_division` parameter to control this behavior.\n",
      "  _warn_prf(average, modifier, msg_start, len(result))\n",
      "/Users/niloofar/opt/anaconda3/lib/python3.7/site-packages/ipykernel_launcher.py:25: UserWarning: Implicit dimension choice for log_softmax has been deprecated. Change the call to include dim=X as an argument.\n"
     ]
    },
    {
     "name": "stdout",
     "output_type": "stream",
     "text": [
      "Epoch [6/10], Step [200/469], Loss: 0.7122, Accuracy: 89.84%\n",
      "F1: 0.8584463082107843  Precision: 0.8290309608155003  Recall: 0.8984375\n"
     ]
    },
    {
     "name": "stderr",
     "output_type": "stream",
     "text": [
      "/Users/niloofar/opt/anaconda3/lib/python3.7/site-packages/sklearn/metrics/_classification.py:1245: UndefinedMetricWarning: Precision is ill-defined and being set to 0.0 in labels with no predicted samples. Use `zero_division` parameter to control this behavior.\n",
      "  _warn_prf(average, modifier, msg_start, len(result))\n",
      "/Users/niloofar/opt/anaconda3/lib/python3.7/site-packages/ipykernel_launcher.py:25: UserWarning: Implicit dimension choice for log_softmax has been deprecated. Change the call to include dim=X as an argument.\n"
     ]
    },
    {
     "name": "stdout",
     "output_type": "stream",
     "text": [
      "Epoch [6/10], Step [300/469], Loss: 0.8482, Accuracy: 87.50%\n",
      "F1: 0.8278318739935587  Precision: 0.790520671583851  Recall: 0.875\n"
     ]
    },
    {
     "name": "stderr",
     "output_type": "stream",
     "text": [
      "/Users/niloofar/opt/anaconda3/lib/python3.7/site-packages/sklearn/metrics/_classification.py:1245: UndefinedMetricWarning: Precision is ill-defined and being set to 0.0 in labels with no predicted samples. Use `zero_division` parameter to control this behavior.\n",
      "  _warn_prf(average, modifier, msg_start, len(result))\n",
      "/Users/niloofar/opt/anaconda3/lib/python3.7/site-packages/ipykernel_launcher.py:25: UserWarning: Implicit dimension choice for log_softmax has been deprecated. Change the call to include dim=X as an argument.\n"
     ]
    },
    {
     "name": "stdout",
     "output_type": "stream",
     "text": [
      "Epoch [6/10], Step [400/469], Loss: 0.5124, Accuracy: 92.97%\n",
      "F1: 0.9012979825361229  Precision: 0.877569122557815  Recall: 0.9296875\n"
     ]
    },
    {
     "name": "stderr",
     "output_type": "stream",
     "text": [
      "/Users/niloofar/opt/anaconda3/lib/python3.7/site-packages/sklearn/metrics/_classification.py:1245: UndefinedMetricWarning: Precision is ill-defined and being set to 0.0 in labels with no predicted samples. Use `zero_division` parameter to control this behavior.\n",
      "  _warn_prf(average, modifier, msg_start, len(result))\n",
      "/Users/niloofar/opt/anaconda3/lib/python3.7/site-packages/sklearn/metrics/_classification.py:1245: UndefinedMetricWarning: Recall is ill-defined and being set to 0.0 in labels with no true samples. Use `zero_division` parameter to control this behavior.\n",
      "  _warn_prf(average, modifier, msg_start, len(result))\n",
      "/Users/niloofar/opt/anaconda3/lib/python3.7/site-packages/ipykernel_launcher.py:25: UserWarning: Implicit dimension choice for log_softmax has been deprecated. Change the call to include dim=X as an argument.\n"
     ]
    },
    {
     "name": "stdout",
     "output_type": "stream",
     "text": [
      "Epoch [7/10], Step [100/469], Loss: 0.9694, Accuracy: 85.94%\n",
      "F1: 0.8030332659238909  Precision: 0.7617793186439785  Recall: 0.859375\n"
     ]
    },
    {
     "name": "stderr",
     "output_type": "stream",
     "text": [
      "/Users/niloofar/opt/anaconda3/lib/python3.7/site-packages/sklearn/metrics/_classification.py:1245: UndefinedMetricWarning: Precision is ill-defined and being set to 0.0 in labels with no predicted samples. Use `zero_division` parameter to control this behavior.\n",
      "  _warn_prf(average, modifier, msg_start, len(result))\n",
      "/Users/niloofar/opt/anaconda3/lib/python3.7/site-packages/ipykernel_launcher.py:25: UserWarning: Implicit dimension choice for log_softmax has been deprecated. Change the call to include dim=X as an argument.\n"
     ]
    },
    {
     "name": "stdout",
     "output_type": "stream",
     "text": [
      "Epoch [7/10], Step [200/469], Loss: 0.6228, Accuracy: 90.62%\n",
      "F1: 0.8758879362064098  Precision: 0.8527744391025641  Recall: 0.90625\n"
     ]
    },
    {
     "name": "stderr",
     "output_type": "stream",
     "text": [
      "/Users/niloofar/opt/anaconda3/lib/python3.7/site-packages/sklearn/metrics/_classification.py:1245: UndefinedMetricWarning: Precision is ill-defined and being set to 0.0 in labels with no predicted samples. Use `zero_division` parameter to control this behavior.\n",
      "  _warn_prf(average, modifier, msg_start, len(result))\n",
      "/Users/niloofar/opt/anaconda3/lib/python3.7/site-packages/ipykernel_launcher.py:25: UserWarning: Implicit dimension choice for log_softmax has been deprecated. Change the call to include dim=X as an argument.\n"
     ]
    },
    {
     "name": "stdout",
     "output_type": "stream",
     "text": [
      "Epoch [7/10], Step [300/469], Loss: 0.4260, Accuracy: 93.75%\n",
      "F1: 0.9121845757492005  Precision: 0.8910948374176175  Recall: 0.9375\n"
     ]
    },
    {
     "name": "stderr",
     "output_type": "stream",
     "text": [
      "/Users/niloofar/opt/anaconda3/lib/python3.7/site-packages/sklearn/metrics/_classification.py:1245: UndefinedMetricWarning: Precision is ill-defined and being set to 0.0 in labels with no predicted samples. Use `zero_division` parameter to control this behavior.\n",
      "  _warn_prf(average, modifier, msg_start, len(result))\n",
      "/Users/niloofar/opt/anaconda3/lib/python3.7/site-packages/ipykernel_launcher.py:25: UserWarning: Implicit dimension choice for log_softmax has been deprecated. Change the call to include dim=X as an argument.\n"
     ]
    },
    {
     "name": "stdout",
     "output_type": "stream",
     "text": [
      "Epoch [7/10], Step [400/469], Loss: 0.7818, Accuracy: 88.28%\n",
      "F1: 0.8356714271719661  Precision: 0.7983397678710178  Recall: 0.8828125\n"
     ]
    },
    {
     "name": "stderr",
     "output_type": "stream",
     "text": [
      "/Users/niloofar/opt/anaconda3/lib/python3.7/site-packages/sklearn/metrics/_classification.py:1245: UndefinedMetricWarning: Precision is ill-defined and being set to 0.0 in labels with no predicted samples. Use `zero_division` parameter to control this behavior.\n",
      "  _warn_prf(average, modifier, msg_start, len(result))\n",
      "/Users/niloofar/opt/anaconda3/lib/python3.7/site-packages/ipykernel_launcher.py:25: UserWarning: Implicit dimension choice for log_softmax has been deprecated. Change the call to include dim=X as an argument.\n"
     ]
    },
    {
     "name": "stdout",
     "output_type": "stream",
     "text": [
      "Epoch [8/10], Step [100/469], Loss: 1.0592, Accuracy: 84.38%\n",
      "F1: 0.7853556351297675  Precision: 0.7446009132819795  Recall: 0.84375\n"
     ]
    },
    {
     "name": "stderr",
     "output_type": "stream",
     "text": [
      "/Users/niloofar/opt/anaconda3/lib/python3.7/site-packages/sklearn/metrics/_classification.py:1245: UndefinedMetricWarning: Precision is ill-defined and being set to 0.0 in labels with no predicted samples. Use `zero_division` parameter to control this behavior.\n",
      "  _warn_prf(average, modifier, msg_start, len(result))\n",
      "/Users/niloofar/opt/anaconda3/lib/python3.7/site-packages/ipykernel_launcher.py:25: UserWarning: Implicit dimension choice for log_softmax has been deprecated. Change the call to include dim=X as an argument.\n"
     ]
    },
    {
     "name": "stdout",
     "output_type": "stream",
     "text": [
      "Epoch [8/10], Step [200/469], Loss: 0.7787, Accuracy: 89.06%\n",
      "F1: 0.8440852986520962  Precision: 0.8090008624188311  Recall: 0.890625\n"
     ]
    },
    {
     "name": "stderr",
     "output_type": "stream",
     "text": [
      "/Users/niloofar/opt/anaconda3/lib/python3.7/site-packages/sklearn/metrics/_classification.py:1245: UndefinedMetricWarning: Precision is ill-defined and being set to 0.0 in labels with no predicted samples. Use `zero_division` parameter to control this behavior.\n",
      "  _warn_prf(average, modifier, msg_start, len(result))\n",
      "/Users/niloofar/opt/anaconda3/lib/python3.7/site-packages/ipykernel_launcher.py:25: UserWarning: Implicit dimension choice for log_softmax has been deprecated. Change the call to include dim=X as an argument.\n"
     ]
    },
    {
     "name": "stdout",
     "output_type": "stream",
     "text": [
      "Epoch [8/10], Step [300/469], Loss: 0.8401, Accuracy: 87.50%\n",
      "F1: 0.8300400212532565  Precision: 0.7974620387016986  Recall: 0.875\n"
     ]
    },
    {
     "name": "stderr",
     "output_type": "stream",
     "text": [
      "/Users/niloofar/opt/anaconda3/lib/python3.7/site-packages/sklearn/metrics/_classification.py:1245: UndefinedMetricWarning: Precision is ill-defined and being set to 0.0 in labels with no predicted samples. Use `zero_division` parameter to control this behavior.\n",
      "  _warn_prf(average, modifier, msg_start, len(result))\n",
      "/Users/niloofar/opt/anaconda3/lib/python3.7/site-packages/ipykernel_launcher.py:25: UserWarning: Implicit dimension choice for log_softmax has been deprecated. Change the call to include dim=X as an argument.\n"
     ]
    },
    {
     "name": "stdout",
     "output_type": "stream",
     "text": [
      "Epoch [8/10], Step [400/469], Loss: 0.6021, Accuracy: 91.41%\n",
      "F1: 0.8785963743204791  Precision: 0.8479324494949495  Recall: 0.9140625\n"
     ]
    },
    {
     "name": "stderr",
     "output_type": "stream",
     "text": [
      "/Users/niloofar/opt/anaconda3/lib/python3.7/site-packages/sklearn/metrics/_classification.py:1245: UndefinedMetricWarning: Precision is ill-defined and being set to 0.0 in labels with no predicted samples. Use `zero_division` parameter to control this behavior.\n",
      "  _warn_prf(average, modifier, msg_start, len(result))\n",
      "/Users/niloofar/opt/anaconda3/lib/python3.7/site-packages/ipykernel_launcher.py:25: UserWarning: Implicit dimension choice for log_softmax has been deprecated. Change the call to include dim=X as an argument.\n"
     ]
    },
    {
     "name": "stdout",
     "output_type": "stream",
     "text": [
      "Epoch [9/10], Step [100/469], Loss: 0.6133, Accuracy: 91.41%\n",
      "F1: 0.8784409462393681  Precision: 0.8518446996397243  Recall: 0.9140625\n"
     ]
    },
    {
     "name": "stderr",
     "output_type": "stream",
     "text": [
      "/Users/niloofar/opt/anaconda3/lib/python3.7/site-packages/sklearn/metrics/_classification.py:1245: UndefinedMetricWarning: Precision is ill-defined and being set to 0.0 in labels with no predicted samples. Use `zero_division` parameter to control this behavior.\n",
      "  _warn_prf(average, modifier, msg_start, len(result))\n",
      "/Users/niloofar/opt/anaconda3/lib/python3.7/site-packages/ipykernel_launcher.py:25: UserWarning: Implicit dimension choice for log_softmax has been deprecated. Change the call to include dim=X as an argument.\n"
     ]
    },
    {
     "name": "stdout",
     "output_type": "stream",
     "text": [
      "Epoch [9/10], Step [200/469], Loss: 1.0960, Accuracy: 84.38%\n",
      "F1: 0.7872846554487181  Precision: 0.7516339869281046  Recall: 0.84375\n"
     ]
    },
    {
     "name": "stderr",
     "output_type": "stream",
     "text": [
      "/Users/niloofar/opt/anaconda3/lib/python3.7/site-packages/sklearn/metrics/_classification.py:1245: UndefinedMetricWarning: Precision is ill-defined and being set to 0.0 in labels with no predicted samples. Use `zero_division` parameter to control this behavior.\n",
      "  _warn_prf(average, modifier, msg_start, len(result))\n",
      "/Users/niloofar/opt/anaconda3/lib/python3.7/site-packages/sklearn/metrics/_classification.py:1245: UndefinedMetricWarning: Recall is ill-defined and being set to 0.0 in labels with no true samples. Use `zero_division` parameter to control this behavior.\n",
      "  _warn_prf(average, modifier, msg_start, len(result))\n",
      "/Users/niloofar/opt/anaconda3/lib/python3.7/site-packages/ipykernel_launcher.py:25: UserWarning: Implicit dimension choice for log_softmax has been deprecated. Change the call to include dim=X as an argument.\n"
     ]
    },
    {
     "name": "stdout",
     "output_type": "stream",
     "text": [
      "Epoch [9/10], Step [300/469], Loss: 0.5837, Accuracy: 90.62%\n",
      "F1: 0.8743095930232558  Precision: 0.8525686553030303  Recall: 0.90625\n"
     ]
    },
    {
     "name": "stderr",
     "output_type": "stream",
     "text": [
      "/Users/niloofar/opt/anaconda3/lib/python3.7/site-packages/sklearn/metrics/_classification.py:1245: UndefinedMetricWarning: Precision is ill-defined and being set to 0.0 in labels with no predicted samples. Use `zero_division` parameter to control this behavior.\n",
      "  _warn_prf(average, modifier, msg_start, len(result))\n",
      "/Users/niloofar/opt/anaconda3/lib/python3.7/site-packages/ipykernel_launcher.py:25: UserWarning: Implicit dimension choice for log_softmax has been deprecated. Change the call to include dim=X as an argument.\n"
     ]
    },
    {
     "name": "stdout",
     "output_type": "stream",
     "text": [
      "Epoch [9/10], Step [400/469], Loss: 0.5637, Accuracy: 91.41%\n",
      "F1: 0.8831957778213166  Precision: 0.8616461530264279  Recall: 0.9140625\n"
     ]
    },
    {
     "name": "stderr",
     "output_type": "stream",
     "text": [
      "/Users/niloofar/opt/anaconda3/lib/python3.7/site-packages/sklearn/metrics/_classification.py:1245: UndefinedMetricWarning: Precision is ill-defined and being set to 0.0 in labels with no predicted samples. Use `zero_division` parameter to control this behavior.\n",
      "  _warn_prf(average, modifier, msg_start, len(result))\n",
      "/Users/niloofar/opt/anaconda3/lib/python3.7/site-packages/ipykernel_launcher.py:25: UserWarning: Implicit dimension choice for log_softmax has been deprecated. Change the call to include dim=X as an argument.\n"
     ]
    },
    {
     "name": "stdout",
     "output_type": "stream",
     "text": [
      "Epoch [10/10], Step [100/469], Loss: 0.7396, Accuracy: 89.84%\n",
      "F1: 0.8549480575847763  Precision: 0.8220207022311213  Recall: 0.8984375\n"
     ]
    },
    {
     "name": "stderr",
     "output_type": "stream",
     "text": [
      "/Users/niloofar/opt/anaconda3/lib/python3.7/site-packages/sklearn/metrics/_classification.py:1245: UndefinedMetricWarning: Precision is ill-defined and being set to 0.0 in labels with no predicted samples. Use `zero_division` parameter to control this behavior.\n",
      "  _warn_prf(average, modifier, msg_start, len(result))\n",
      "/Users/niloofar/opt/anaconda3/lib/python3.7/site-packages/ipykernel_launcher.py:25: UserWarning: Implicit dimension choice for log_softmax has been deprecated. Change the call to include dim=X as an argument.\n"
     ]
    },
    {
     "name": "stdout",
     "output_type": "stream",
     "text": [
      "Epoch [10/10], Step [200/469], Loss: 0.7945, Accuracy: 88.28%\n",
      "F1: 0.8433605495426149  Precision: 0.8148956078643578  Recall: 0.8828125\n"
     ]
    },
    {
     "name": "stderr",
     "output_type": "stream",
     "text": [
      "/Users/niloofar/opt/anaconda3/lib/python3.7/site-packages/sklearn/metrics/_classification.py:1245: UndefinedMetricWarning: Precision is ill-defined and being set to 0.0 in labels with no predicted samples. Use `zero_division` parameter to control this behavior.\n",
      "  _warn_prf(average, modifier, msg_start, len(result))\n",
      "/Users/niloofar/opt/anaconda3/lib/python3.7/site-packages/ipykernel_launcher.py:25: UserWarning: Implicit dimension choice for log_softmax has been deprecated. Change the call to include dim=X as an argument.\n"
     ]
    },
    {
     "name": "stdout",
     "output_type": "stream",
     "text": [
      "Epoch [10/10], Step [300/469], Loss: 0.5943, Accuracy: 90.62%\n",
      "F1: 0.8711373745341136  Precision: 0.842879126082251  Recall: 0.90625\n"
     ]
    },
    {
     "name": "stderr",
     "output_type": "stream",
     "text": [
      "/Users/niloofar/opt/anaconda3/lib/python3.7/site-packages/sklearn/metrics/_classification.py:1245: UndefinedMetricWarning: Precision is ill-defined and being set to 0.0 in labels with no predicted samples. Use `zero_division` parameter to control this behavior.\n",
      "  _warn_prf(average, modifier, msg_start, len(result))\n",
      "/Users/niloofar/opt/anaconda3/lib/python3.7/site-packages/ipykernel_launcher.py:25: UserWarning: Implicit dimension choice for log_softmax has been deprecated. Change the call to include dim=X as an argument.\n"
     ]
    },
    {
     "name": "stdout",
     "output_type": "stream",
     "text": [
      "Epoch [10/10], Step [400/469], Loss: 0.5609, Accuracy: 91.41%\n",
      "F1: 0.8788895536193422  Precision: 0.8505173754197193  Recall: 0.9140625\n"
     ]
    },
    {
     "name": "stderr",
     "output_type": "stream",
     "text": [
      "/Users/niloofar/opt/anaconda3/lib/python3.7/site-packages/sklearn/metrics/_classification.py:1245: UndefinedMetricWarning: Precision is ill-defined and being set to 0.0 in labels with no predicted samples. Use `zero_division` parameter to control this behavior.\n",
      "  _warn_prf(average, modifier, msg_start, len(result))\n",
      "/Users/niloofar/opt/anaconda3/lib/python3.7/site-packages/ipykernel_launcher.py:25: UserWarning: Implicit dimension choice for log_softmax has been deprecated. Change the call to include dim=X as an argument.\n"
     ]
    },
    {
     "name": "stdout",
     "output_type": "stream",
     "text": [
      "Epoch [1/10], Step [100/469], Loss: 0.5050, Accuracy: 84.38%\n",
      "F1: 0.8491225686587812  Precision: 0.8663390071937866  Recall: 0.84375\n"
     ]
    },
    {
     "name": "stderr",
     "output_type": "stream",
     "text": [
      "/Users/niloofar/opt/anaconda3/lib/python3.7/site-packages/ipykernel_launcher.py:25: UserWarning: Implicit dimension choice for log_softmax has been deprecated. Change the call to include dim=X as an argument.\n"
     ]
    },
    {
     "name": "stdout",
     "output_type": "stream",
     "text": [
      "Epoch [1/10], Step [200/469], Loss: 0.2837, Accuracy: 92.19%\n",
      "F1: 0.9223649652309193  Precision: 0.9265625  Recall: 0.921875\n"
     ]
    },
    {
     "name": "stderr",
     "output_type": "stream",
     "text": [
      "/Users/niloofar/opt/anaconda3/lib/python3.7/site-packages/ipykernel_launcher.py:25: UserWarning: Implicit dimension choice for log_softmax has been deprecated. Change the call to include dim=X as an argument.\n"
     ]
    },
    {
     "name": "stdout",
     "output_type": "stream",
     "text": [
      "Epoch [1/10], Step [300/469], Loss: 0.2758, Accuracy: 94.53%\n",
      "F1: 0.9464749716411609  Precision: 0.9554563492063491  Recall: 0.9453125\n"
     ]
    },
    {
     "name": "stderr",
     "output_type": "stream",
     "text": [
      "/Users/niloofar/opt/anaconda3/lib/python3.7/site-packages/ipykernel_launcher.py:25: UserWarning: Implicit dimension choice for log_softmax has been deprecated. Change the call to include dim=X as an argument.\n"
     ]
    },
    {
     "name": "stdout",
     "output_type": "stream",
     "text": [
      "Epoch [1/10], Step [400/469], Loss: 0.1453, Accuracy: 93.75%\n",
      "F1: 0.9380456356536699  Precision: 0.9430094211344211  Recall: 0.9375\n"
     ]
    },
    {
     "name": "stderr",
     "output_type": "stream",
     "text": [
      "/Users/niloofar/opt/anaconda3/lib/python3.7/site-packages/ipykernel_launcher.py:25: UserWarning: Implicit dimension choice for log_softmax has been deprecated. Change the call to include dim=X as an argument.\n"
     ]
    },
    {
     "name": "stdout",
     "output_type": "stream",
     "text": [
      "Epoch [2/10], Step [100/469], Loss: 0.1465, Accuracy: 96.88%\n",
      "F1: 0.9690027131433381  Precision: 0.9716134049773756  Recall: 0.96875\n"
     ]
    },
    {
     "name": "stderr",
     "output_type": "stream",
     "text": [
      "/Users/niloofar/opt/anaconda3/lib/python3.7/site-packages/ipykernel_launcher.py:25: UserWarning: Implicit dimension choice for log_softmax has been deprecated. Change the call to include dim=X as an argument.\n"
     ]
    },
    {
     "name": "stdout",
     "output_type": "stream",
     "text": [
      "Epoch [2/10], Step [200/469], Loss: 0.0759, Accuracy: 97.66%\n",
      "F1: 0.9767365645154419  Precision: 0.9787326388888888  Recall: 0.9765625\n"
     ]
    },
    {
     "name": "stderr",
     "output_type": "stream",
     "text": [
      "/Users/niloofar/opt/anaconda3/lib/python3.7/site-packages/ipykernel_launcher.py:25: UserWarning: Implicit dimension choice for log_softmax has been deprecated. Change the call to include dim=X as an argument.\n"
     ]
    },
    {
     "name": "stdout",
     "output_type": "stream",
     "text": [
      "Epoch [2/10], Step [300/469], Loss: 0.0434, Accuracy: 99.22%\n",
      "F1: 0.9921875  Precision: 0.9926215277777778  Recall: 0.9921875\n"
     ]
    },
    {
     "name": "stderr",
     "output_type": "stream",
     "text": [
      "/Users/niloofar/opt/anaconda3/lib/python3.7/site-packages/ipykernel_launcher.py:25: UserWarning: Implicit dimension choice for log_softmax has been deprecated. Change the call to include dim=X as an argument.\n"
     ]
    },
    {
     "name": "stdout",
     "output_type": "stream",
     "text": [
      "Epoch [2/10], Step [400/469], Loss: 0.0866, Accuracy: 97.66%\n",
      "F1: 0.9766138136288999  Precision: 0.9777610085227273  Recall: 0.9765625\n"
     ]
    },
    {
     "name": "stderr",
     "output_type": "stream",
     "text": [
      "/Users/niloofar/opt/anaconda3/lib/python3.7/site-packages/ipykernel_launcher.py:25: UserWarning: Implicit dimension choice for log_softmax has been deprecated. Change the call to include dim=X as an argument.\n"
     ]
    },
    {
     "name": "stdout",
     "output_type": "stream",
     "text": [
      "Epoch [3/10], Step [100/469], Loss: 0.0746, Accuracy: 97.66%\n",
      "F1: 0.9764016906939462  Precision: 0.9779438405797101  Recall: 0.9765625\n"
     ]
    },
    {
     "name": "stderr",
     "output_type": "stream",
     "text": [
      "/Users/niloofar/opt/anaconda3/lib/python3.7/site-packages/ipykernel_launcher.py:25: UserWarning: Implicit dimension choice for log_softmax has been deprecated. Change the call to include dim=X as an argument.\n"
     ]
    },
    {
     "name": "stdout",
     "output_type": "stream",
     "text": [
      "Epoch [3/10], Step [200/469], Loss: 0.0315, Accuracy: 99.22%\n",
      "F1: 0.9921436711079944  Precision: 0.99267578125  Recall: 0.9921875\n"
     ]
    },
    {
     "name": "stderr",
     "output_type": "stream",
     "text": [
      "/Users/niloofar/opt/anaconda3/lib/python3.7/site-packages/ipykernel_launcher.py:25: UserWarning: Implicit dimension choice for log_softmax has been deprecated. Change the call to include dim=X as an argument.\n"
     ]
    },
    {
     "name": "stdout",
     "output_type": "stream",
     "text": [
      "Epoch [3/10], Step [300/469], Loss: 0.0954, Accuracy: 96.88%\n",
      "F1: 0.9683856089860273  Precision: 0.9714843750000001  Recall: 0.96875\n"
     ]
    },
    {
     "name": "stderr",
     "output_type": "stream",
     "text": [
      "/Users/niloofar/opt/anaconda3/lib/python3.7/site-packages/ipykernel_launcher.py:25: UserWarning: Implicit dimension choice for log_softmax has been deprecated. Change the call to include dim=X as an argument.\n"
     ]
    },
    {
     "name": "stdout",
     "output_type": "stream",
     "text": [
      "Epoch [3/10], Step [400/469], Loss: 0.1000, Accuracy: 96.88%\n",
      "F1: 0.9685827044633644  Precision: 0.971875  Recall: 0.96875\n"
     ]
    },
    {
     "name": "stderr",
     "output_type": "stream",
     "text": [
      "/Users/niloofar/opt/anaconda3/lib/python3.7/site-packages/ipykernel_launcher.py:25: UserWarning: Implicit dimension choice for log_softmax has been deprecated. Change the call to include dim=X as an argument.\n"
     ]
    },
    {
     "name": "stdout",
     "output_type": "stream",
     "text": [
      "Epoch [4/10], Step [100/469], Loss: 0.0671, Accuracy: 97.66%\n",
      "F1: 0.9766909584980237  Precision: 0.9781400240384616  Recall: 0.9765625\n"
     ]
    },
    {
     "name": "stderr",
     "output_type": "stream",
     "text": [
      "/Users/niloofar/opt/anaconda3/lib/python3.7/site-packages/ipykernel_launcher.py:25: UserWarning: Implicit dimension choice for log_softmax has been deprecated. Change the call to include dim=X as an argument.\n"
     ]
    },
    {
     "name": "stdout",
     "output_type": "stream",
     "text": [
      "Epoch [4/10], Step [200/469], Loss: 0.0733, Accuracy: 97.66%\n",
      "F1: 0.9760915678995613  Precision: 0.9786290640782829  Recall: 0.9765625\n"
     ]
    },
    {
     "name": "stderr",
     "output_type": "stream",
     "text": [
      "/Users/niloofar/opt/anaconda3/lib/python3.7/site-packages/ipykernel_launcher.py:25: UserWarning: Implicit dimension choice for log_softmax has been deprecated. Change the call to include dim=X as an argument.\n"
     ]
    },
    {
     "name": "stdout",
     "output_type": "stream",
     "text": [
      "Epoch [4/10], Step [300/469], Loss: 0.1048, Accuracy: 97.66%\n",
      "F1: 0.9766062675070027  Precision: 0.977890114379085  Recall: 0.9765625\n"
     ]
    },
    {
     "name": "stderr",
     "output_type": "stream",
     "text": [
      "/Users/niloofar/opt/anaconda3/lib/python3.7/site-packages/ipykernel_launcher.py:25: UserWarning: Implicit dimension choice for log_softmax has been deprecated. Change the call to include dim=X as an argument.\n"
     ]
    },
    {
     "name": "stdout",
     "output_type": "stream",
     "text": [
      "Epoch [4/10], Step [400/469], Loss: 0.1245, Accuracy: 96.88%\n",
      "F1: 0.9685741120664461  Precision: 0.971781994047619  Recall: 0.96875\n"
     ]
    },
    {
     "name": "stderr",
     "output_type": "stream",
     "text": [
      "/Users/niloofar/opt/anaconda3/lib/python3.7/site-packages/ipykernel_launcher.py:25: UserWarning: Implicit dimension choice for log_softmax has been deprecated. Change the call to include dim=X as an argument.\n"
     ]
    },
    {
     "name": "stdout",
     "output_type": "stream",
     "text": [
      "Epoch [5/10], Step [100/469], Loss: 0.0321, Accuracy: 99.22%\n",
      "F1: 0.9921875  Precision: 0.9927884615384616  Recall: 0.9921875\n"
     ]
    },
    {
     "name": "stderr",
     "output_type": "stream",
     "text": [
      "/Users/niloofar/opt/anaconda3/lib/python3.7/site-packages/ipykernel_launcher.py:25: UserWarning: Implicit dimension choice for log_softmax has been deprecated. Change the call to include dim=X as an argument.\n"
     ]
    },
    {
     "name": "stdout",
     "output_type": "stream",
     "text": [
      "Epoch [5/10], Step [200/469], Loss: 0.0350, Accuracy: 99.22%\n",
      "F1: 0.992199074074074  Precision: 0.9927884615384616  Recall: 0.9921875\n"
     ]
    },
    {
     "name": "stderr",
     "output_type": "stream",
     "text": [
      "/Users/niloofar/opt/anaconda3/lib/python3.7/site-packages/ipykernel_launcher.py:25: UserWarning: Implicit dimension choice for log_softmax has been deprecated. Change the call to include dim=X as an argument.\n"
     ]
    },
    {
     "name": "stdout",
     "output_type": "stream",
     "text": [
      "Epoch [5/10], Step [300/469], Loss: 0.0260, Accuracy: 100.00%\n",
      "F1: 1.0  Precision: 1.0  Recall: 1.0\n"
     ]
    },
    {
     "name": "stderr",
     "output_type": "stream",
     "text": [
      "/Users/niloofar/opt/anaconda3/lib/python3.7/site-packages/ipykernel_launcher.py:25: UserWarning: Implicit dimension choice for log_softmax has been deprecated. Change the call to include dim=X as an argument.\n"
     ]
    },
    {
     "name": "stdout",
     "output_type": "stream",
     "text": [
      "Epoch [5/10], Step [400/469], Loss: 0.0568, Accuracy: 98.44%\n",
      "F1: 0.9844676496077358  Precision: 0.9857954545454546  Recall: 0.984375\n"
     ]
    },
    {
     "name": "stderr",
     "output_type": "stream",
     "text": [
      "/Users/niloofar/opt/anaconda3/lib/python3.7/site-packages/ipykernel_launcher.py:25: UserWarning: Implicit dimension choice for log_softmax has been deprecated. Change the call to include dim=X as an argument.\n"
     ]
    },
    {
     "name": "stdout",
     "output_type": "stream",
     "text": [
      "Epoch [6/10], Step [100/469], Loss: 0.0587, Accuracy: 98.44%\n",
      "F1: 0.9844256756756757  Precision: 0.9849759615384616  Recall: 0.984375\n"
     ]
    },
    {
     "name": "stderr",
     "output_type": "stream",
     "text": [
      "/Users/niloofar/opt/anaconda3/lib/python3.7/site-packages/ipykernel_launcher.py:25: UserWarning: Implicit dimension choice for log_softmax has been deprecated. Change the call to include dim=X as an argument.\n"
     ]
    },
    {
     "name": "stdout",
     "output_type": "stream",
     "text": [
      "Epoch [6/10], Step [200/469], Loss: 0.1911, Accuracy: 96.88%\n",
      "F1: 0.9681517556517557  Precision: 0.9702271533613446  Recall: 0.96875\n"
     ]
    },
    {
     "name": "stderr",
     "output_type": "stream",
     "text": [
      "/Users/niloofar/opt/anaconda3/lib/python3.7/site-packages/ipykernel_launcher.py:25: UserWarning: Implicit dimension choice for log_softmax has been deprecated. Change the call to include dim=X as an argument.\n"
     ]
    },
    {
     "name": "stdout",
     "output_type": "stream",
     "text": [
      "Epoch [6/10], Step [300/469], Loss: 0.0171, Accuracy: 99.22%\n",
      "F1: 0.9922484161793372  Precision: 0.99296875  Recall: 0.9921875\n"
     ]
    },
    {
     "name": "stderr",
     "output_type": "stream",
     "text": [
      "/Users/niloofar/opt/anaconda3/lib/python3.7/site-packages/ipykernel_launcher.py:25: UserWarning: Implicit dimension choice for log_softmax has been deprecated. Change the call to include dim=X as an argument.\n"
     ]
    },
    {
     "name": "stdout",
     "output_type": "stream",
     "text": [
      "Epoch [6/10], Step [400/469], Loss: 0.0250, Accuracy: 99.22%\n",
      "F1: 0.9920874822190612  Precision: 0.9925986842105263  Recall: 0.9921875\n"
     ]
    },
    {
     "name": "stderr",
     "output_type": "stream",
     "text": [
      "/Users/niloofar/opt/anaconda3/lib/python3.7/site-packages/ipykernel_launcher.py:25: UserWarning: Implicit dimension choice for log_softmax has been deprecated. Change the call to include dim=X as an argument.\n"
     ]
    },
    {
     "name": "stdout",
     "output_type": "stream",
     "text": [
      "Epoch [7/10], Step [100/469], Loss: 0.0229, Accuracy: 100.00%\n",
      "F1: 1.0  Precision: 1.0  Recall: 1.0\n"
     ]
    },
    {
     "name": "stderr",
     "output_type": "stream",
     "text": [
      "/Users/niloofar/opt/anaconda3/lib/python3.7/site-packages/ipykernel_launcher.py:25: UserWarning: Implicit dimension choice for log_softmax has been deprecated. Change the call to include dim=X as an argument.\n"
     ]
    },
    {
     "name": "stdout",
     "output_type": "stream",
     "text": [
      "Epoch [7/10], Step [200/469], Loss: 0.0685, Accuracy: 98.44%\n",
      "F1: 0.9843226943971519  Precision: 0.9855143229166666  Recall: 0.984375\n"
     ]
    },
    {
     "name": "stderr",
     "output_type": "stream",
     "text": [
      "/Users/niloofar/opt/anaconda3/lib/python3.7/site-packages/ipykernel_launcher.py:25: UserWarning: Implicit dimension choice for log_softmax has been deprecated. Change the call to include dim=X as an argument.\n"
     ]
    },
    {
     "name": "stdout",
     "output_type": "stream",
     "text": [
      "Epoch [7/10], Step [300/469], Loss: 0.0401, Accuracy: 98.44%\n",
      "F1: 0.9840689804147466  Precision: 0.9853515625  Recall: 0.984375\n"
     ]
    },
    {
     "name": "stderr",
     "output_type": "stream",
     "text": [
      "/Users/niloofar/opt/anaconda3/lib/python3.7/site-packages/ipykernel_launcher.py:25: UserWarning: Implicit dimension choice for log_softmax has been deprecated. Change the call to include dim=X as an argument.\n"
     ]
    },
    {
     "name": "stdout",
     "output_type": "stream",
     "text": [
      "Epoch [7/10], Step [400/469], Loss: 0.0121, Accuracy: 100.00%\n",
      "F1: 1.0  Precision: 1.0  Recall: 1.0\n"
     ]
    },
    {
     "name": "stderr",
     "output_type": "stream",
     "text": [
      "/Users/niloofar/opt/anaconda3/lib/python3.7/site-packages/ipykernel_launcher.py:25: UserWarning: Implicit dimension choice for log_softmax has been deprecated. Change the call to include dim=X as an argument.\n"
     ]
    },
    {
     "name": "stdout",
     "output_type": "stream",
     "text": [
      "Epoch [8/10], Step [100/469], Loss: 0.0237, Accuracy: 98.44%\n",
      "F1: 0.9841918370839394  Precision: 0.9853515625  Recall: 0.984375\n"
     ]
    },
    {
     "name": "stderr",
     "output_type": "stream",
     "text": [
      "/Users/niloofar/opt/anaconda3/lib/python3.7/site-packages/ipykernel_launcher.py:25: UserWarning: Implicit dimension choice for log_softmax has been deprecated. Change the call to include dim=X as an argument.\n"
     ]
    },
    {
     "name": "stdout",
     "output_type": "stream",
     "text": [
      "Epoch [8/10], Step [200/469], Loss: 0.0088, Accuracy: 100.00%\n",
      "F1: 1.0  Precision: 1.0  Recall: 1.0\n"
     ]
    },
    {
     "name": "stderr",
     "output_type": "stream",
     "text": [
      "/Users/niloofar/opt/anaconda3/lib/python3.7/site-packages/ipykernel_launcher.py:25: UserWarning: Implicit dimension choice for log_softmax has been deprecated. Change the call to include dim=X as an argument.\n"
     ]
    },
    {
     "name": "stdout",
     "output_type": "stream",
     "text": [
      "Epoch [8/10], Step [300/469], Loss: 0.1054, Accuracy: 96.88%\n",
      "F1: 0.9687142448512586  Precision: 0.9701822916666666  Recall: 0.96875\n"
     ]
    },
    {
     "name": "stderr",
     "output_type": "stream",
     "text": [
      "/Users/niloofar/opt/anaconda3/lib/python3.7/site-packages/ipykernel_launcher.py:25: UserWarning: Implicit dimension choice for log_softmax has been deprecated. Change the call to include dim=X as an argument.\n"
     ]
    },
    {
     "name": "stdout",
     "output_type": "stream",
     "text": [
      "Epoch [8/10], Step [400/469], Loss: 0.0932, Accuracy: 95.31%\n",
      "F1: 0.9531190655554214  Precision: 0.9549684758771929  Recall: 0.953125\n"
     ]
    },
    {
     "name": "stderr",
     "output_type": "stream",
     "text": [
      "/Users/niloofar/opt/anaconda3/lib/python3.7/site-packages/ipykernel_launcher.py:25: UserWarning: Implicit dimension choice for log_softmax has been deprecated. Change the call to include dim=X as an argument.\n"
     ]
    },
    {
     "name": "stdout",
     "output_type": "stream",
     "text": [
      "Epoch [9/10], Step [100/469], Loss: 0.0339, Accuracy: 98.44%\n",
      "F1: 0.984314024390244  Precision: 0.9854572510822511  Recall: 0.984375\n"
     ]
    },
    {
     "name": "stderr",
     "output_type": "stream",
     "text": [
      "/Users/niloofar/opt/anaconda3/lib/python3.7/site-packages/ipykernel_launcher.py:25: UserWarning: Implicit dimension choice for log_softmax has been deprecated. Change the call to include dim=X as an argument.\n"
     ]
    },
    {
     "name": "stdout",
     "output_type": "stream",
     "text": [
      "Epoch [9/10], Step [200/469], Loss: 0.0305, Accuracy: 100.00%\n",
      "F1: 1.0  Precision: 1.0  Recall: 1.0\n"
     ]
    },
    {
     "name": "stderr",
     "output_type": "stream",
     "text": [
      "/Users/niloofar/opt/anaconda3/lib/python3.7/site-packages/ipykernel_launcher.py:25: UserWarning: Implicit dimension choice for log_softmax has been deprecated. Change the call to include dim=X as an argument.\n"
     ]
    },
    {
     "name": "stdout",
     "output_type": "stream",
     "text": [
      "Epoch [9/10], Step [300/469], Loss: 0.0145, Accuracy: 100.00%\n",
      "F1: 1.0  Precision: 1.0  Recall: 1.0\n"
     ]
    },
    {
     "name": "stderr",
     "output_type": "stream",
     "text": [
      "/Users/niloofar/opt/anaconda3/lib/python3.7/site-packages/ipykernel_launcher.py:25: UserWarning: Implicit dimension choice for log_softmax has been deprecated. Change the call to include dim=X as an argument.\n"
     ]
    },
    {
     "name": "stdout",
     "output_type": "stream",
     "text": [
      "Epoch [9/10], Step [400/469], Loss: 0.0154, Accuracy: 100.00%\n",
      "F1: 1.0  Precision: 1.0  Recall: 1.0\n"
     ]
    },
    {
     "name": "stderr",
     "output_type": "stream",
     "text": [
      "/Users/niloofar/opt/anaconda3/lib/python3.7/site-packages/ipykernel_launcher.py:25: UserWarning: Implicit dimension choice for log_softmax has been deprecated. Change the call to include dim=X as an argument.\n"
     ]
    },
    {
     "name": "stdout",
     "output_type": "stream",
     "text": [
      "Epoch [10/10], Step [100/469], Loss: 0.0078, Accuracy: 100.00%\n",
      "F1: 1.0  Precision: 1.0  Recall: 1.0\n"
     ]
    },
    {
     "name": "stderr",
     "output_type": "stream",
     "text": [
      "/Users/niloofar/opt/anaconda3/lib/python3.7/site-packages/ipykernel_launcher.py:25: UserWarning: Implicit dimension choice for log_softmax has been deprecated. Change the call to include dim=X as an argument.\n"
     ]
    },
    {
     "name": "stdout",
     "output_type": "stream",
     "text": [
      "Epoch [10/10], Step [200/469], Loss: 0.0361, Accuracy: 99.22%\n",
      "F1: 0.9922038270637409  Precision: 0.9927083333333333  Recall: 0.9921875\n"
     ]
    },
    {
     "name": "stderr",
     "output_type": "stream",
     "text": [
      "/Users/niloofar/opt/anaconda3/lib/python3.7/site-packages/ipykernel_launcher.py:25: UserWarning: Implicit dimension choice for log_softmax has been deprecated. Change the call to include dim=X as an argument.\n"
     ]
    },
    {
     "name": "stdout",
     "output_type": "stream",
     "text": [
      "Epoch [10/10], Step [300/469], Loss: 0.0434, Accuracy: 96.88%\n",
      "F1: 0.9690835307079919  Precision: 0.9735677083333334  Recall: 0.96875\n"
     ]
    },
    {
     "name": "stderr",
     "output_type": "stream",
     "text": [
      "/Users/niloofar/opt/anaconda3/lib/python3.7/site-packages/ipykernel_launcher.py:25: UserWarning: Implicit dimension choice for log_softmax has been deprecated. Change the call to include dim=X as an argument.\n"
     ]
    },
    {
     "name": "stdout",
     "output_type": "stream",
     "text": [
      "Epoch [10/10], Step [400/469], Loss: 0.0421, Accuracy: 98.44%\n",
      "F1: 0.9844700811359026  Precision: 0.9852430555555556  Recall: 0.984375\n"
     ]
    },
    {
     "name": "stderr",
     "output_type": "stream",
     "text": [
      "/Users/niloofar/opt/anaconda3/lib/python3.7/site-packages/ipykernel_launcher.py:25: UserWarning: Implicit dimension choice for log_softmax has been deprecated. Change the call to include dim=X as an argument.\n"
     ]
    }
   ],
   "source": [
    "from sklearn.metrics import f1_score, precision_score, recall_score\n",
    "total_step = len(train_loader)\n",
    "loss_list = [[],[],[],[]]\n",
    "acc_list = [[],[],[],[]]\n",
    "num_epochs = 10\n",
    "Model = [model_1, model_2, model_3, model_4]\n",
    "for j in range(4):\n",
    "    optimizer = torch.optim.Adam(Model[j].parameters(), lr=0.0005)\n",
    "    for epoch in range(num_epochs):\n",
    "        for i, (images, labels) in enumerate(train_loader):\n",
    "        # Run the forward pass\n",
    "            model = Model[j]\n",
    "            outputs = model(images)\n",
    "            loss = criterion(outputs, labels)\n",
    "            loss_list[j].append(loss.item())\n",
    "\n",
    "            # Backprop and perform Adam optimisation\n",
    "            optimizer.zero_grad()\n",
    "            loss.backward()\n",
    "            optimizer.step()\n",
    "\n",
    "            # Track the accuracy\n",
    "            total = labels.size(0)\n",
    "            _, predicted = torch.max(outputs.data, 1)\n",
    "            correct = (predicted == labels).sum().item()\n",
    "            acc_list[j].append(correct / total)\n",
    "\n",
    "            if (i + 1) % 100 == 0:\n",
    "                print('Epoch [{}/{}], Step [{}/{}], Loss: {:.4f}, Accuracy: {:.2f}%'\n",
    "                  .format(epoch + 1, num_epochs, i + 1, total_step, loss.item(),\n",
    "                          (correct / total) * 100))\n",
    "                print('F1: {}  Precision: {}  Recall: {}'.format(f1_score(labels, predicted, average = \"weighted\"),precision_score(labels, predicted, average = \"weighted\"),recall_score(labels, predicted, average = \"weighted\")))\n",
    "            \n",
    "            "
   ]
  },
  {
   "cell_type": "code",
   "execution_count": 27,
   "metadata": {},
   "outputs": [
    {
     "data": {
      "image/png": "[encoded data removed]",
      "text/plain": [
       "<Figure size 1080x1080 with 4 Axes>"
      ]
     },
     "metadata": {
      "needs_background": "light"
     },
     "output_type": "display_data"
    }
   ],
   "source": [
    "import numpy as np\n",
    "import matplotlib.pyplot as plt\n",
    "\n",
    "\n",
    "fig, ((ax1, ax2), (ax3, ax4)) = plt.subplots(2, 2, figsize=(15,15))\n",
    "ax1.plot(list(range(len(acc_list[0]))), acc_list[0], 'tab:green')\n",
    "ax1.set_title('Model 1')\n",
    "ax2.plot(list(range(len(acc_list[1]))), acc_list[1], 'tab:red')\n",
    "ax2.set_title('Model 2')\n",
    "ax3.plot(list(range(len(acc_list[2]))), acc_list[2], 'tab:orange')\n",
    "ax3.set_title('Model 3')\n",
    "ax4.plot(list(range(len(acc_list[3]))), acc_list[3], 'tab:blue')\n",
    "ax4.set_title('Model 4')\n",
    "#plt.legend()\n",
    "#plt.show()\n",
    "\n",
    "for ax in fig.get_axes():\n",
    "    ax.label_outer()\n",
    "\n",
    "#print('Model_1: ', acc_list[0])\n",
    "#print('Model_2: ', acc_list[1])\n",
    "#print('Model_3: ', acc_list[2])\n",
    "#print('Model_4: ', acc_list[3])"
   ]
  },
  {
   "cell_type": "markdown",
   "metadata": {},
   "source": [
    "# Model 1: Our Base Model for The Test Data MNIST"
   ]
  },
  {
   "cell_type": "code",
   "execution_count": 28,
   "metadata": {
    "scrolled": true
   },
   "outputs": [
    {
     "name": "stderr",
     "output_type": "stream",
     "text": [
      "/Users/niloofar/opt/anaconda3/lib/python3.7/site-packages/ipykernel_launcher.py:25: UserWarning: Implicit dimension choice for log_softmax has been deprecated. Change the call to include dim=X as an argument.\n"
     ]
    },
    {
     "name": "stdout",
     "output_type": "stream",
     "text": [
      "Test Loss = 0.03942131623625755: Accuracy = 0.984375\n",
      "Test Loss = 0.022892815992236137: Accuracy = 0.9921875\n",
      "Test Loss = 0.06460095942020416: Accuracy = 0.9765625\n",
      "Test Loss = 0.09909871965646744: Accuracy = 0.984375\n",
      "Test Loss = 0.07380831986665726: Accuracy = 0.9765625\n",
      "Test Loss = 0.06343870609998703: Accuracy = 0.9765625\n",
      "Test Loss = 0.050726741552352905: Accuracy = 0.984375\n",
      "Test Loss = 0.10961128771305084: Accuracy = 0.96875\n",
      "Test Loss = 0.08474668860435486: Accuracy = 0.9765625\n",
      "Test Loss = 0.16257737576961517: Accuracy = 0.9375\n",
      "Test Loss = 0.08244489878416061: Accuracy = 0.9765625\n",
      "Test Loss = 0.027924012392759323: Accuracy = 1.0\n",
      "Test Loss = 0.036707546561956406: Accuracy = 0.9921875\n",
      "Test Loss = 0.07895602285861969: Accuracy = 0.953125\n",
      "Test Loss = 0.05400710552930832: Accuracy = 0.9765625\n",
      "Test Loss = 0.07856814563274384: Accuracy = 0.9765625\n",
      "Test Loss = 0.1379712074995041: Accuracy = 0.953125\n",
      "Test Loss = 0.04761459678411484: Accuracy = 0.984375\n",
      "Test Loss = 0.04490195959806442: Accuracy = 0.984375\n",
      "Test Loss = 0.0711740106344223: Accuracy = 0.9765625\n",
      "Test Loss = 0.08533496409654617: Accuracy = 0.984375\n",
      "Test Loss = 0.07135866582393646: Accuracy = 0.984375\n",
      "Test Loss = 0.11287156492471695: Accuracy = 0.9765625\n",
      "Test Loss = 0.09416612982749939: Accuracy = 0.96875\n",
      "Test Loss = 0.04308401048183441: Accuracy = 0.9921875\n",
      "Test Loss = 0.04569629207253456: Accuracy = 0.9921875\n",
      "Test Loss = 0.07009534537792206: Accuracy = 0.984375\n",
      "Test Loss = 0.12371724843978882: Accuracy = 0.9765625\n",
      "Test Loss = 0.008886488154530525: Accuracy = 1.0\n",
      "Test Loss = 0.1958865523338318: Accuracy = 0.953125\n",
      "Test Loss = 0.07831469178199768: Accuracy = 0.96875\n",
      "Test Loss = 0.08463186025619507: Accuracy = 0.9609375\n",
      "Test Loss = 0.09390255063772202: Accuracy = 0.984375\n",
      "Test Loss = 0.055352140218019485: Accuracy = 0.984375\n",
      "Test Loss = 0.02799288183450699: Accuracy = 0.9921875\n",
      "Test Loss = 0.04370328038930893: Accuracy = 0.984375\n",
      "Test Loss = 0.0365370512008667: Accuracy = 0.984375\n",
      "Test Loss = 0.04561395198106766: Accuracy = 0.984375\n",
      "Test Loss = 0.07517717033624649: Accuracy = 0.9765625\n",
      "Test Loss = 0.003683876246213913: Accuracy = 1.0\n",
      "Test Loss = 0.01744871772825718: Accuracy = 0.9921875\n",
      "Test Loss = 0.007455086335539818: Accuracy = 1.0\n",
      "Test Loss = 0.00864210445433855: Accuracy = 1.0\n",
      "Test Loss = 0.02182173542678356: Accuracy = 0.9921875\n",
      "Test Loss = 0.04490019381046295: Accuracy = 0.984375\n",
      "Test Loss = 0.003422242123633623: Accuracy = 1.0\n",
      "Test Loss = 0.06496776640415192: Accuracy = 0.9765625\n",
      "Test Loss = 0.011011054739356041: Accuracy = 1.0\n",
      "Test Loss = 0.01010748092085123: Accuracy = 1.0\n",
      "Test Loss = 0.0012386842863634229: Accuracy = 1.0\n",
      "Test Loss = 0.0033749809954315424: Accuracy = 1.0\n",
      "Test Loss = 0.175295889377594: Accuracy = 0.953125\n",
      "Test Loss = 0.015917755663394928: Accuracy = 1.0\n",
      "Test Loss = 0.015551412478089333: Accuracy = 0.9921875\n",
      "Test Loss = 0.007687488570809364: Accuracy = 1.0\n",
      "Test Loss = 0.006983988452702761: Accuracy = 1.0\n",
      "Test Loss = 0.008905668742954731: Accuracy = 1.0\n",
      "Test Loss = 0.004127774853259325: Accuracy = 1.0\n",
      "Test Loss = 0.01757793314754963: Accuracy = 1.0\n",
      "Test Loss = 0.002977956086397171: Accuracy = 1.0\n",
      "Test Loss = 0.0038281772285699844: Accuracy = 1.0\n",
      "Test Loss = 0.046130649745464325: Accuracy = 0.9921875\n",
      "Test Loss = 0.013580059632658958: Accuracy = 0.9921875\n",
      "Test Loss = 0.021427370607852936: Accuracy = 0.9921875\n",
      "Test Loss = 0.033072277903556824: Accuracy = 0.9921875\n",
      "Test Loss = 0.0362866073846817: Accuracy = 0.9921875\n",
      "Test Loss = 0.019727328792214394: Accuracy = 0.9921875\n",
      "Test Loss = 0.0018847024766728282: Accuracy = 1.0\n",
      "Test Loss = 0.0020960227120667696: Accuracy = 1.0\n",
      "Test Loss = 0.001055310945957899: Accuracy = 1.0\n",
      "Test Loss = 0.05295335128903389: Accuracy = 0.984375\n",
      "Test Loss = 0.007993767969310284: Accuracy = 1.0\n",
      "Test Loss = 0.001293576555326581: Accuracy = 1.0\n",
      "Test Loss = 0.0018678917549550533: Accuracy = 1.0\n",
      "Test Loss = 0.01670166663825512: Accuracy = 0.9921875\n",
      "Test Loss = 0.06139127165079117: Accuracy = 0.984375\n",
      "Test Loss = 0.10738230496644974: Accuracy = 0.9609375\n",
      "Test Loss = 0.05255783721804619: Accuracy = 0.984375\n",
      "Test Loss = 0.0036172205582261086: Accuracy = 1.0\n"
     ]
    }
   ],
   "source": [
    "test_loss1 = []\n",
    "test_accuracy1 = []\n",
    "with torch.no_grad():\n",
    "    for X, y in test_loader:\n",
    "        pred = model_1(X)\n",
    "        loss = criterion(pred, y)\n",
    "        loss_value = loss.item()\n",
    "        \n",
    "        y_pred = torch.argmax(pred.data,1)\n",
    "        correct = (y == y_pred).sum().item()/len(y_pred)\n",
    "        test_loss1.append(loss_value)\n",
    "        test_accuracy1.append(correct)\n",
    "        print(\"Test Loss = {}: Accuracy = {}\".format(loss_value,correct))\n"
   ]
  },
  {
   "cell_type": "markdown",
   "metadata": {},
   "source": [
    "# Model 2: Adding Non-Random Noise to The Test Data MNIST"
   ]
  },
  {
   "cell_type": "code",
   "execution_count": 44,
   "metadata": {
    "scrolled": true
   },
   "outputs": [
    {
     "name": "stderr",
     "output_type": "stream",
     "text": [
      "/Users/niloofar/opt/anaconda3/lib/python3.7/site-packages/ipykernel_launcher.py:25: UserWarning: Implicit dimension choice for log_softmax has been deprecated. Change the call to include dim=X as an argument.\n"
     ]
    },
    {
     "name": "stdout",
     "output_type": "stream",
     "text": [
      "Test Loss = 0.1877964586019516: Accuracy = 0.9453125\n",
      "Test Loss = 0.15707427263259888: Accuracy = 0.953125\n",
      "Test Loss = 0.14668568968772888: Accuracy = 0.9453125\n",
      "Test Loss = 0.21160782873630524: Accuracy = 0.921875\n",
      "Test Loss = 0.11486668884754181: Accuracy = 0.9765625\n",
      "Test Loss = 0.22709789872169495: Accuracy = 0.9140625\n",
      "Test Loss = 0.16837529838085175: Accuracy = 0.9453125\n",
      "Test Loss = 0.19179166853427887: Accuracy = 0.9453125\n",
      "Test Loss = 0.21177756786346436: Accuracy = 0.9609375\n",
      "Test Loss = 0.3259853720664978: Accuracy = 0.8828125\n",
      "Test Loss = 0.13167715072631836: Accuracy = 0.9453125\n",
      "Test Loss = 0.2710856795310974: Accuracy = 0.90625\n",
      "Test Loss = 0.24309775233268738: Accuracy = 0.9296875\n",
      "Test Loss = 0.2516046464443207: Accuracy = 0.9375\n",
      "Test Loss = 0.22288155555725098: Accuracy = 0.9296875\n",
      "Test Loss = 0.18989142775535583: Accuracy = 0.9296875\n",
      "Test Loss = 0.3133346736431122: Accuracy = 0.8984375\n",
      "Test Loss = 0.24018332362174988: Accuracy = 0.9140625\n",
      "Test Loss = 0.21756687760353088: Accuracy = 0.921875\n",
      "Test Loss = 0.09051987528800964: Accuracy = 0.9765625\n",
      "Test Loss = 0.14087215065956116: Accuracy = 0.9609375\n",
      "Test Loss = 0.16672450304031372: Accuracy = 0.96875\n",
      "Test Loss = 0.28406357765197754: Accuracy = 0.9140625\n",
      "Test Loss = 0.22302408516407013: Accuracy = 0.9296875\n",
      "Test Loss = 0.17603394389152527: Accuracy = 0.9453125\n",
      "Test Loss = 0.11150279641151428: Accuracy = 0.9609375\n",
      "Test Loss = 0.14915704727172852: Accuracy = 0.9609375\n",
      "Test Loss = 0.30745747685432434: Accuracy = 0.921875\n",
      "Test Loss = 0.13982143998146057: Accuracy = 0.96875\n",
      "Test Loss = 0.21578723192214966: Accuracy = 0.921875\n",
      "Test Loss = 0.16003316640853882: Accuracy = 0.9453125\n",
      "Test Loss = 0.24243594706058502: Accuracy = 0.9375\n",
      "Test Loss = 0.12126535177230835: Accuracy = 0.9453125\n",
      "Test Loss = 0.16742409765720367: Accuracy = 0.9453125\n",
      "Test Loss = 0.15700377523899078: Accuracy = 0.9375\n",
      "Test Loss = 0.3295312523841858: Accuracy = 0.890625\n",
      "Test Loss = 0.14321523904800415: Accuracy = 0.953125\n",
      "Test Loss = 0.1975991278886795: Accuracy = 0.9453125\n",
      "Test Loss = 0.19765082001686096: Accuracy = 0.9296875\n",
      "Test Loss = 0.12796339392662048: Accuracy = 0.9609375\n",
      "Test Loss = 0.12276795506477356: Accuracy = 0.9453125\n",
      "Test Loss = 0.04088079556822777: Accuracy = 0.9921875\n",
      "Test Loss = 0.060858920216560364: Accuracy = 0.9765625\n",
      "Test Loss = 0.07796185463666916: Accuracy = 0.9765625\n",
      "Test Loss = 0.1288990080356598: Accuracy = 0.9453125\n",
      "Test Loss = 0.0838182345032692: Accuracy = 0.9765625\n",
      "Test Loss = 0.424172967672348: Accuracy = 0.890625\n",
      "Test Loss = 0.2752511501312256: Accuracy = 0.9296875\n",
      "Test Loss = 0.19895844161510468: Accuracy = 0.9453125\n",
      "Test Loss = 0.025926822796463966: Accuracy = 1.0\n",
      "Test Loss = 0.0541052371263504: Accuracy = 0.984375\n",
      "Test Loss = 0.3948153257369995: Accuracy = 0.9140625\n",
      "Test Loss = 0.3414544463157654: Accuracy = 0.890625\n",
      "Test Loss = 0.07852554321289062: Accuracy = 0.9609375\n",
      "Test Loss = 0.06632152199745178: Accuracy = 0.984375\n",
      "Test Loss = 0.08280257135629654: Accuracy = 0.9765625\n",
      "Test Loss = 0.09396909922361374: Accuracy = 0.9765625\n",
      "Test Loss = 0.14363521337509155: Accuracy = 0.953125\n",
      "Test Loss = 0.1139310896396637: Accuracy = 0.9609375\n",
      "Test Loss = 0.04339933022856712: Accuracy = 1.0\n",
      "Test Loss = 0.26289641857147217: Accuracy = 0.9140625\n",
      "Test Loss = 0.6657606959342957: Accuracy = 0.8125\n",
      "Test Loss = 0.23890677094459534: Accuracy = 0.9140625\n",
      "Test Loss = 0.26248061656951904: Accuracy = 0.9296875\n",
      "Test Loss = 0.2543674111366272: Accuracy = 0.9140625\n",
      "Test Loss = 0.269317090511322: Accuracy = 0.90625\n",
      "Test Loss = 0.18176743388175964: Accuracy = 0.953125\n",
      "Test Loss = 0.02976054698228836: Accuracy = 0.9921875\n",
      "Test Loss = 0.0442991778254509: Accuracy = 0.9921875\n",
      "Test Loss = 0.01612170599400997: Accuracy = 1.0\n",
      "Test Loss = 0.21318113803863525: Accuracy = 0.9140625\n",
      "Test Loss = 0.08943013846874237: Accuracy = 0.9765625\n",
      "Test Loss = 0.0761088877916336: Accuracy = 0.9765625\n",
      "Test Loss = 0.06408233940601349: Accuracy = 0.96875\n",
      "Test Loss = 0.2235906571149826: Accuracy = 0.9375\n",
      "Test Loss = 0.5976386666297913: Accuracy = 0.8515625\n",
      "Test Loss = 0.2540130913257599: Accuracy = 0.9375\n",
      "Test Loss = 0.17974765598773956: Accuracy = 0.9375\n",
      "Test Loss = 0.29802843928337097: Accuracy = 0.875\n"
     ]
    }
   ],
   "source": [
    "# Adding one crack to the camera: Showing with Model 2\n",
    "\n",
    "test_loss2 = []\n",
    "test_accuracy2 = []\n",
    "def crack_noise():\n",
    "    with torch.no_grad():\n",
    "        for data in test_loader:\n",
    "            img, y = data[0], data[1]\n",
    "            cracked_noise = img.numpy()\n",
    "            \n",
    "            cracked_noise[:,:,10,:] = 0 \n",
    "            cracked_noise[:,:,11,:] = 0\n",
    "            cracked_img = torch.tensor(cracked_noise)\n",
    "            pred = model_2(cracked_img)\n",
    "            loss = criterion(pred, y)\n",
    "            loss_value = loss.item()\n",
    "        \n",
    "            y_pred = torch.argmax(pred.data,1)\n",
    "            correct = (y == y_pred).sum().item()/len(y_pred)\n",
    "            test_loss2.append(loss_value)\n",
    "            test_accuracy2.append(correct)\n",
    "            print(\"Test Loss = {}: Accuracy = {}\".format(loss_value,correct))\n",
    "\n",
    "crack_noise()\n"
   ]
  },
  {
   "cell_type": "markdown",
   "metadata": {},
   "source": [
    "# Model 4: Adding Random Gaussian Noise to The Test Data MNIST"
   ]
  },
  {
   "cell_type": "code",
   "execution_count": 34,
   "metadata": {
    "scrolled": true
   },
   "outputs": [
    {
     "name": "stderr",
     "output_type": "stream",
     "text": [
      "/Users/niloofar/opt/anaconda3/lib/python3.7/site-packages/ipykernel_launcher.py:25: UserWarning: Implicit dimension choice for log_softmax has been deprecated. Change the call to include dim=X as an argument.\n"
     ]
    },
    {
     "name": "stdout",
     "output_type": "stream",
     "text": [
      "Test Loss = 1.6094552278518677: Accuracy = 0.9765625\n",
      "Test Loss = 1.718192458152771: Accuracy = 0.9453125\n",
      "Test Loss = 1.777172327041626: Accuracy = 0.953125\n",
      "Test Loss = 1.6624622344970703: Accuracy = 0.953125\n",
      "Test Loss = 1.569591760635376: Accuracy = 0.9609375\n",
      "Test Loss = 1.697558879852295: Accuracy = 0.875\n",
      "Test Loss = 1.4471778869628906: Accuracy = 0.9296875\n",
      "Test Loss = 1.7140376567840576: Accuracy = 0.9296875\n",
      "Test Loss = 1.665100336074829: Accuracy = 0.953125\n",
      "Test Loss = 1.8484702110290527: Accuracy = 0.90625\n",
      "Test Loss = 1.604201078414917: Accuracy = 0.9296875\n",
      "Test Loss = 1.7271119356155396: Accuracy = 0.9140625\n",
      "Test Loss = 1.6290459632873535: Accuracy = 0.96875\n",
      "Test Loss = 1.9428327083587646: Accuracy = 0.8984375\n",
      "Test Loss = 1.7553212642669678: Accuracy = 0.953125\n",
      "Test Loss = 1.700962781906128: Accuracy = 0.9296875\n",
      "Test Loss = 1.7375823259353638: Accuracy = 0.921875\n",
      "Test Loss = 1.611295223236084: Accuracy = 0.9296875\n",
      "Test Loss = 1.7411577701568604: Accuracy = 0.9140625\n",
      "Test Loss = 1.6340076923370361: Accuracy = 0.953125\n",
      "Test Loss = 1.5836257934570312: Accuracy = 0.9453125\n",
      "Test Loss = 1.7937994003295898: Accuracy = 0.9296875\n",
      "Test Loss = 1.7357324361801147: Accuracy = 0.9296875\n",
      "Test Loss = 1.6891169548034668: Accuracy = 0.9453125\n",
      "Test Loss = 1.5102088451385498: Accuracy = 0.9609375\n",
      "Test Loss = 1.6490519046783447: Accuracy = 0.9296875\n",
      "Test Loss = 1.6708815097808838: Accuracy = 0.953125\n",
      "Test Loss = 1.6530486345291138: Accuracy = 0.8984375\n",
      "Test Loss = 1.5989676713943481: Accuracy = 0.953125\n",
      "Test Loss = 1.6718412637710571: Accuracy = 0.875\n",
      "Test Loss = 1.588852047920227: Accuracy = 0.9375\n",
      "Test Loss = 1.8278231620788574: Accuracy = 0.9453125\n",
      "Test Loss = 1.7426539659500122: Accuracy = 0.921875\n",
      "Test Loss = 1.6435939073562622: Accuracy = 0.9609375\n",
      "Test Loss = 1.7597397565841675: Accuracy = 0.9296875\n",
      "Test Loss = 1.577196717262268: Accuracy = 0.953125\n",
      "Test Loss = 1.6377068758010864: Accuracy = 0.921875\n",
      "Test Loss = 1.7688177824020386: Accuracy = 0.8984375\n",
      "Test Loss = 1.6880638599395752: Accuracy = 0.9375\n",
      "Test Loss = 1.4876341819763184: Accuracy = 0.984375\n",
      "Test Loss = 1.4235652685165405: Accuracy = 0.9765625\n",
      "Test Loss = 1.2905166149139404: Accuracy = 0.96875\n",
      "Test Loss = 1.2840853929519653: Accuracy = 0.953125\n",
      "Test Loss = 1.3302539587020874: Accuracy = 0.9921875\n",
      "Test Loss = 1.61641263961792: Accuracy = 0.9375\n",
      "Test Loss = 1.3596704006195068: Accuracy = 1.0\n",
      "Test Loss = 1.603791356086731: Accuracy = 0.953125\n",
      "Test Loss = 1.2966504096984863: Accuracy = 0.9375\n",
      "Test Loss = 1.2305628061294556: Accuracy = 0.9609375\n",
      "Test Loss = 1.1972229480743408: Accuracy = 0.96875\n",
      "Test Loss = 1.4425783157348633: Accuracy = 0.953125\n",
      "Test Loss = 2.192373275756836: Accuracy = 0.8359375\n",
      "Test Loss = 1.550732970237732: Accuracy = 0.953125\n",
      "Test Loss = 1.2157400846481323: Accuracy = 0.96875\n",
      "Test Loss = 1.4515348672866821: Accuracy = 0.984375\n",
      "Test Loss = 1.5477982759475708: Accuracy = 0.984375\n",
      "Test Loss = 1.4826370477676392: Accuracy = 0.9765625\n",
      "Test Loss = 1.4332629442214966: Accuracy = 0.96875\n",
      "Test Loss = 1.853499174118042: Accuracy = 0.9453125\n",
      "Test Loss = 1.5445640087127686: Accuracy = 0.96875\n",
      "Test Loss = 1.3240892887115479: Accuracy = 0.9609375\n",
      "Test Loss = 1.643668532371521: Accuracy = 0.96875\n",
      "Test Loss = 1.2971000671386719: Accuracy = 0.9921875\n",
      "Test Loss = 1.5198112726211548: Accuracy = 0.953125\n",
      "Test Loss = 1.4534860849380493: Accuracy = 0.9765625\n",
      "Test Loss = 1.3671329021453857: Accuracy = 0.9453125\n",
      "Test Loss = 1.149701476097107: Accuracy = 0.984375\n",
      "Test Loss = 1.2124450206756592: Accuracy = 0.984375\n",
      "Test Loss = 1.1136181354522705: Accuracy = 1.0\n",
      "Test Loss = 1.1575391292572021: Accuracy = 1.0\n",
      "Test Loss = 1.2211761474609375: Accuracy = 0.9609375\n",
      "Test Loss = 1.1959788799285889: Accuracy = 0.9765625\n",
      "Test Loss = 1.5080186128616333: Accuracy = 0.9375\n",
      "Test Loss = 1.3094892501831055: Accuracy = 0.9921875\n",
      "Test Loss = 1.2945220470428467: Accuracy = 1.0\n",
      "Test Loss = 1.9852372407913208: Accuracy = 0.8828125\n",
      "Test Loss = 2.079873561859131: Accuracy = 0.90625\n",
      "Test Loss = 1.9798674583435059: Accuracy = 0.9296875\n",
      "Test Loss = 0.9737138748168945: Accuracy = 1.0\n"
     ]
    }
   ],
   "source": [
    "# Adding random noise from the model context Model 1\n",
    "\n",
    "from skimage.util import random_noise\n",
    "test_loss4 = []\n",
    "test_accuracy4 = []\n",
    "def gaussian_noise():\n",
    "    with torch.no_grad():\n",
    "        for data in test_loader:\n",
    "            img, y = data[0], data[1]\n",
    "            gauss_img = torch.tensor(random_noise(img, mode='gaussian', mean=0, var=0.05, clip=True)).float()\n",
    "            pred = model_4(gauss_img)\n",
    "            loss = criterion(pred, y)\n",
    "            loss_value = loss.item()\n",
    "        \n",
    "            y_pred = torch.argmax(pred.data,1)\n",
    "            correct = (y == y_pred).sum().item()/len(y_pred)\n",
    "            test_loss4.append(loss_value)\n",
    "            test_accuracy4.append(correct)\n",
    "            print(\"Test Loss = {}: Accuracy = {}\".format(loss_value,correct))\n",
    "\n",
    "gaussian_noise()\n"
   ]
  },
  {
   "cell_type": "code",
   "execution_count": 53,
   "metadata": {},
   "outputs": [
    {
     "data": {
      "image/png": "[encoded data removed]",
      "text/plain": [
       "<Figure size 720x720 with 3 Axes>"
      ]
     },
     "metadata": {
      "needs_background": "light"
     },
     "output_type": "display_data"
    }
   ],
   "source": [
    "fig2, (ax1, ax2, ax4) = plt.subplots(3, figsize = (10,10))\n",
    "ax1.plot(list(range(len(test_accuracy1))), test_accuracy1, 'tab:green')\n",
    "ax1.set_title('Model 1- Accuracy: Base')\n",
    "ax2.plot(list(range(len(test_accuracy2))), test_accuracy2, 'tab:orange')\n",
    "ax2.set_title('Model 2- Accuracy: Crack')\n",
    "ax4.plot(list(range(len(test_accuracy4))), test_accuracy4, 'tab:red')\n",
    "ax4.set_title('Model 4- Accuracy: Gaussian')\n",
    "\n",
    "for ax in fig2.get_axes():\n",
    "    ax.label_outer()"
   ]
  },
  {
   "cell_type": "markdown",
   "metadata": {},
   "source": [
    "## Visualizing MNIST dataset and Predicted Labels"
   ]
  },
  {
   "cell_type": "code",
   "execution_count": 237,
   "metadata": {},
   "outputs": [
    {
     "name": "stderr",
     "output_type": "stream",
     "text": [
      "/Users/niloofar/opt/anaconda3/lib/python3.7/site-packages/ipykernel_launcher.py:25: UserWarning: Implicit dimension choice for log_softmax has been deprecated. Change the call to include dim=X as an argument.\n"
     ]
    },
    {
     "name": "stdout",
     "output_type": "stream",
     "text": [
      "The model prediction were [7 7 8 6 6 5 4 7 9 4]\n",
      "The actual classes were :[7 7 8 6 5 5 4 7 9 4]\n"
     ]
    },
    {
     "data": {
      "image/png": "[encoded data removed]",
      "text/plain": [
       "<Figure size 432x432 with 10 Axes>"
      ]
     },
     "metadata": {
      "needs_background": "light"
     },
     "output_type": "display_data"
    }
   ],
   "source": [
    "import numpy as np\n",
    "import matplotlib.pyplot as plt\n",
    "\n",
    "pred_label = []\n",
    "true_label = []\n",
    "plt.rcParams['figure.figsize'] = (6,6)\n",
    "random_images = [int(i) for i in np.round(np.random.rand(10,1)* 10000)] \n",
    "\n",
    "for i in range(10):\n",
    "    img_num = random_images[i]\n",
    "    img = np.array(val[img_num][0])\n",
    "   # print(val[img_num][0])\n",
    "    plt.subplot(2,5,i+1)\n",
    "    plt.imshow(img.reshape((28,28)), cmap='gray', interpolation='none')\n",
    "    index = torch.tensor(img_num)\n",
    "  # print(index)\n",
    "  #  print(val[index])\n",
    "    im, la = val[index]\n",
    "    im = im.unsqueeze(0)\n",
    "    #print(im.shape)\n",
    "    output = model(im)\n",
    "    _, prediction = torch.max(output.data, 1)\n",
    "    pred_label.append(prediction)\n",
    "    true_label.append(la)\n",
    "\n",
    "print(\"The model prediction were \" + str(np.array(pred_label)))\n",
    "print(\"The actual classes were :\" + str(np.array(true_label)))"
   ]
  },
  {
   "cell_type": "markdown",
   "metadata": {},
   "source": [
    "## Visualizing MNIST Feature Map and Filters"
   ]
  },
  {
   "cell_type": "code",
   "execution_count": 311,
   "metadata": {},
   "outputs": [
    {
     "name": "stderr",
     "output_type": "stream",
     "text": [
      "/Users/niloofar/opt/anaconda3/lib/python3.7/site-packages/ipykernel_launcher.py:25: UserWarning: Implicit dimension choice for log_softmax has been deprecated. Change the call to include dim=X as an argument.\n"
     ]
    },
    {
     "data": {
      "image/png": "[encoded data removed]",
      "text/plain": [
       "<Figure size 1440x1440 with 32 Axes>"
      ]
     },
     "metadata": {
      "needs_background": "light"
     },
     "output_type": "display_data"
    },
    {
     "data": {
      "image/png": "[encoded data removed]",
      "text/plain": [
       "<Figure size 1440x1440 with 32 Axes>"
      ]
     },
     "metadata": {
      "needs_background": "light"
     },
     "output_type": "display_data"
    }
   ],
   "source": [
    "# Visualizing Feature Maps\n",
    "#from torchvision.utils import make_grid\n",
    "\n",
    "activation = {}\n",
    "def get_activation(name):\n",
    "    def hook(model, input, output):\n",
    "        activation[name] = output.detach()\n",
    "    return hook\n",
    "\n",
    "model.layer1.register_forward_hook(get_activation('conv1'))\n",
    "data2, _ = train[0]\n",
    "data2.unsqueeze_(0)\n",
    "output2 = model(data2)\n",
    "\n",
    "act2 = activation['conv1'].squeeze()\n",
    "fig, axarr2 = plt.subplots(act2.size(0))\n",
    "fig.set_figheight(20)\n",
    "fig.set_figwidth(20)\n",
    "#plt.subplot(2,5,act.size(0))\n",
    "for idx in range(act2.size(0)):\n",
    "    axarr2[idx].imshow(act2[idx])\n",
    "    \n",
    "# Visualizing Filters layer\n",
    "kernels2 = model.layer1[0].weight.detach()\n",
    "fig, axarr2 = plt.subplots(kernels2.size(0))\n",
    "fig.set_figheight(20)\n",
    "fig.set_figwidth(20)\n",
    "for idx in range(kernels2.size(0)):\n",
    "   # print(kernels[idx].shape)\n",
    "    axarr2[idx].imshow(kernels2[idx].squeeze())\n",
    "    \n"
   ]
  },
  {
   "cell_type": "markdown",
   "metadata": {},
   "source": [
    "## CIFAR100 DATASETS"
   ]
  },
  {
   "cell_type": "code",
   "execution_count": 31,
   "metadata": {},
   "outputs": [
    {
     "name": "stdout",
     "output_type": "stream",
     "text": [
      "Files already downloaded and verified\n",
      "Files already downloaded and verified\n",
      "(50000, 32, 32, 3) 50000\n",
      "(10000, 32, 32, 3) 10000\n"
     ]
    }
   ],
   "source": [
    "stats = ((0.5074,0.4867,0.4411),(0.2011,0.1987,0.2025))\n",
    "train_transform = transforms.Compose([\n",
    "    transforms.RandomHorizontalFlip(),\n",
    "    transforms.RandomCrop(32,padding=4,padding_mode=\"reflect\"),\n",
    "    transforms.ToTensor(),\n",
    "    transforms.Normalize(*stats)\n",
    "])\n",
    "\n",
    "test_transform = transforms.Compose([\n",
    "    transforms.ToTensor(),\n",
    "    transforms.Normalize(*stats)\n",
    "])\n",
    "\n",
    "train2 = thv.datasets.CIFAR100(' .. / data ', download=True , train=True, transform=train_transform)\n",
    "val2 = thv.datasets.CIFAR100(' .. / data ', download=True , train=False,transform=test_transform)\n",
    "print(train2.data.shape , len ( train2.targets ))\n",
    "print(val2.data.shape , len ( val2.targets ))\n",
    "\n",
    "train_loader2 = torch.utils.data.DataLoader(train2, batch_size=128, shuffle = True)\n",
    "test_loader2 = torch.utils.data.DataLoader(val2, batch_size=128, shuffle = False)\n"
   ]
  },
  {
   "cell_type": "markdown",
   "metadata": {},
   "source": [
    "## CNN FOR CIFAR100"
   ]
  },
  {
   "cell_type": "code",
   "execution_count": 165,
   "metadata": {},
   "outputs": [],
   "source": [
    "class ConNet2(nn.Module):\n",
    "    def __init__(self):\n",
    "        super(ConNet2, self).__init__()\n",
    "        self.layer1 = nn.Sequential(\n",
    "            nn.Conv2d(3, 32, kernel_size=3, stride = 1),\n",
    "            nn.ReLU(),\n",
    "            nn.MaxPool2d(kernel_size=2, stride=2))\n",
    "        self.layer2 = nn.Sequential(\n",
    "            nn.Conv2d(32, 64, kernel_size=5, stride=1),\n",
    "            nn.ReLU(),\n",
    "            nn.MaxPool2d(kernel_size=2, stride=2))\n",
    "        self.flatten = nn.Flatten()\n",
    "        self.drop_out = nn.Dropout()\n",
    "        self.fc1 = nn.Linear( 64 * 5* 5, 1024)\n",
    "        self.relu = nn.ReLU()\n",
    "        \n",
    "\n",
    "    def forward(self, x):\n",
    "        out = self.layer1(x)\n",
    "        out = self.layer2(out)\n",
    "        out = out.reshape(out.size(0), -1)\n",
    "        out = self.flatten(out)\n",
    "        out = self.drop_out(out)\n",
    "        out = self.fc1(out)\n",
    "        out = self.relu(out)\n",
    "        return F.log_softmax(out)"
   ]
  },
  {
   "cell_type": "code",
   "execution_count": 174,
   "metadata": {},
   "outputs": [],
   "source": [
    "model2 = ConNet2()\n",
    "\n",
    "# Loss and optimizer\n",
    "criterion2 = nn.CrossEntropyLoss()\n",
    "optimizer2 = torch.optim.Adam(model2.parameters(), lr=0.0005)"
   ]
  },
  {
   "cell_type": "code",
   "execution_count": 175,
   "metadata": {
    "scrolled": true
   },
   "outputs": [
    {
     "name": "stderr",
     "output_type": "stream",
     "text": [
      "/Users/niloofar/opt/anaconda3/lib/python3.7/site-packages/ipykernel_launcher.py:26: UserWarning: Implicit dimension choice for log_softmax has been deprecated. Change the call to include dim=X as an argument.\n"
     ]
    },
    {
     "name": "stdout",
     "output_type": "stream",
     "text": [
      "Epoch [1/10], Step [100/391], Loss: 5.8883, Accuracy: 5.47%\n",
      "F1: 0.03283747502497503  Precision: 0.031901041666666664  Recall: 0.0546875\n",
      "Epoch [1/10], Step [200/391], Loss: 5.9881, Accuracy: 7.03%\n",
      "F1: 0.053903431637806636  Precision: 0.060825892857142856  Recall: 0.0703125\n",
      "Epoch [1/10], Step [300/391], Loss: 5.6098, Accuracy: 10.16%\n",
      "F1: 0.06505681818181819  Precision: 0.07327938988095238  Recall: 0.1015625\n",
      "Epoch [2/10], Step [100/391], Loss: 5.7267, Accuracy: 10.94%\n",
      "F1: 0.07674851190476191  Precision: 0.06878004807692308  Recall: 0.109375\n",
      "Epoch [2/10], Step [200/391], Loss: 5.5122, Accuracy: 14.06%\n",
      "F1: 0.0935983721139971  Precision: 0.08850446428571429  Recall: 0.140625\n",
      "Epoch [2/10], Step [300/391], Loss: 5.4077, Accuracy: 14.84%\n",
      "F1: 0.09069940476190477  Precision: 0.0765625  Recall: 0.1484375\n",
      "Epoch [3/10], Step [100/391], Loss: 5.4597, Accuracy: 14.06%\n",
      "F1: 0.09836309523809525  Precision: 0.09123263888888888  Recall: 0.140625\n",
      "Epoch [3/10], Step [200/391], Loss: 5.8172, Accuracy: 11.72%\n",
      "F1: 0.0812624007936508  Precision: 0.08517485119047619  Recall: 0.1171875\n",
      "Epoch [3/10], Step [300/391], Loss: 5.4560, Accuracy: 15.62%\n",
      "F1: 0.12293526785714284  Precision: 0.11848958333333334  Recall: 0.15625\n",
      "Epoch [4/10], Step [100/391], Loss: 5.4471, Accuracy: 14.06%\n",
      "F1: 0.09995265151515151  Precision: 0.09556003891941392  Recall: 0.140625\n",
      "Epoch [4/10], Step [200/391], Loss: 5.5667, Accuracy: 12.50%\n",
      "F1: 0.08814102564102563  Precision: 0.08057528409090908  Recall: 0.125\n",
      "Epoch [4/10], Step [300/391], Loss: 5.5143, Accuracy: 11.72%\n",
      "F1: 0.09953497023809524  Precision: 0.098046875  Recall: 0.1171875\n",
      "Epoch [5/10], Step [100/391], Loss: 5.2334, Accuracy: 19.53%\n",
      "F1: 0.14687499999999998  Precision: 0.12721354166666665  Recall: 0.1953125\n",
      "Epoch [5/10], Step [200/391], Loss: 5.4205, Accuracy: 18.75%\n",
      "F1: 0.12632068452380954  Precision: 0.1185639880952381  Recall: 0.1875\n",
      "Epoch [5/10], Step [300/391], Loss: 5.3609, Accuracy: 14.06%\n",
      "F1: 0.11220858134920635  Precision: 0.10758928571428572  Recall: 0.140625\n",
      "Epoch [6/10], Step [100/391], Loss: 5.6544, Accuracy: 11.72%\n",
      "F1: 0.08911830357142857  Precision: 0.0935639880952381  Recall: 0.1171875\n",
      "Epoch [6/10], Step [200/391], Loss: 5.1849, Accuracy: 21.88%\n",
      "F1: 0.18192640692640694  Precision: 0.18450520833333334  Recall: 0.21875\n",
      "Epoch [6/10], Step [300/391], Loss: 5.4146, Accuracy: 16.41%\n",
      "F1: 0.13962053571428573  Precision: 0.14388020833333334  Recall: 0.1640625\n",
      "Epoch [7/10], Step [100/391], Loss: 5.6790, Accuracy: 10.16%\n",
      "F1: 0.07563244047619047  Precision: 0.06569940476190476  Recall: 0.1015625\n",
      "Epoch [7/10], Step [200/391], Loss: 5.6368, Accuracy: 14.84%\n",
      "F1: 0.11117311507936509  Precision: 0.10123697916666666  Recall: 0.1484375\n",
      "Epoch [7/10], Step [300/391], Loss: 5.3545, Accuracy: 17.19%\n",
      "F1: 0.11785714285714285  Precision: 0.09544270833333333  Recall: 0.171875\n",
      "Epoch [8/10], Step [100/391], Loss: 5.1663, Accuracy: 20.31%\n",
      "F1: 0.1479668335137085  Precision: 0.1448846726190476  Recall: 0.203125\n",
      "Epoch [8/10], Step [200/391], Loss: 5.4666, Accuracy: 14.84%\n",
      "F1: 0.12529761904761905  Precision: 0.13359375  Recall: 0.1484375\n",
      "Epoch [8/10], Step [300/391], Loss: 5.1841, Accuracy: 20.31%\n",
      "F1: 0.1566840277777778  Precision: 0.15696614583333332  Recall: 0.203125\n",
      "Epoch [9/10], Step [100/391], Loss: 5.2837, Accuracy: 18.75%\n",
      "F1: 0.1331349206349206  Precision: 0.11760602678571429  Recall: 0.1875\n",
      "Epoch [9/10], Step [200/391], Loss: 5.1224, Accuracy: 18.75%\n",
      "F1: 0.1520089285714286  Precision: 0.15161830357142858  Recall: 0.1875\n",
      "Epoch [9/10], Step [300/391], Loss: 4.8273, Accuracy: 25.78%\n",
      "F1: 0.2015625  Precision: 0.18984374999999998  Recall: 0.2578125\n",
      "Epoch [10/10], Step [100/391], Loss: 5.7069, Accuracy: 10.94%\n",
      "F1: 0.08250473484848483  Precision: 0.0763888888888889  Recall: 0.109375\n",
      "Epoch [10/10], Step [200/391], Loss: 5.4436, Accuracy: 14.84%\n",
      "F1: 0.1205214056776557  Precision: 0.12803875811688312  Recall: 0.1484375\n",
      "Epoch [10/10], Step [300/391], Loss: 5.2227, Accuracy: 21.09%\n",
      "F1: 0.1533172123015873  Precision: 0.1371186755952381  Recall: 0.2109375\n"
     ]
    }
   ],
   "source": [
    "from sklearn.metrics import f1_score, precision_score, recall_score\n",
    "\n",
    "total_step2 = len(train_loader2)\n",
    "loss_list2 = []\n",
    "acc_list2 = []\n",
    "num_epochs = 10\n",
    "for epoch in range(num_epochs):\n",
    "    for i, (images2, labels2) in enumerate(train_loader2):\n",
    "        # Run the forward pass\n",
    "        outputs = model2(images2)\n",
    "        loss2 = criterion2(outputs, labels2)\n",
    "        loss_list2.append(loss2.item())\n",
    "\n",
    "        # Backprop and perform Adam optimisation\n",
    "        optimizer2.zero_grad()\n",
    "        loss2.backward()\n",
    "        optimizer2.step()\n",
    "\n",
    "        # Track the accuracy\n",
    "        total2 = labels2.size(0)\n",
    "        _, predicted2 = torch.max(outputs.data, 1)\n",
    "        correct2 = (predicted2 == labels2).sum().item()\n",
    "        acc_list2.append(correct2 / total2)\n",
    "\n",
    "        if (i + 1) % 100 == 0:\n",
    "            print('Epoch [{}/{}], Step [{}/{}], Loss: {:.4f}, Accuracy: {:.2f}%'\n",
    "                  .format(epoch + 1, num_epochs, i + 1, total_step2, loss2.item(),\n",
    "                          (correct2 / total2) * 100))\n",
    "            print('F1: {}  Precision: {}  Recall: {}'.format(f1_score(labels2, predicted2, average = \"weighted\"),precision_score(labels2, predicted2, average = \"weighted\"),recall_score(labels2, predicted2, average = \"weighted\")))\n",
    "        #print(f1_score(y_true, y_pred.data.to('cpu')))"
   ]
  },
  {
   "cell_type": "markdown",
   "metadata": {},
   "source": [
    "## Visualizing CFAR100 dataset and Predicted Labels"
   ]
  },
  {
   "cell_type": "code",
   "execution_count": 257,
   "metadata": {},
   "outputs": [
    {
     "name": "stderr",
     "output_type": "stream",
     "text": [
      "Clipping input data to the valid range for imshow with RGB data ([0..1] for floats or [0..255] for integers).\n",
      "/Users/niloofar/opt/anaconda3/lib/python3.7/site-packages/ipykernel_launcher.py:26: UserWarning: Implicit dimension choice for log_softmax has been deprecated. Change the call to include dim=X as an argument.\n",
      "Clipping input data to the valid range for imshow with RGB data ([0..1] for floats or [0..255] for integers).\n",
      "Clipping input data to the valid range for imshow with RGB data ([0..1] for floats or [0..255] for integers).\n",
      "Clipping input data to the valid range for imshow with RGB data ([0..1] for floats or [0..255] for integers).\n",
      "Clipping input data to the valid range for imshow with RGB data ([0..1] for floats or [0..255] for integers).\n",
      "Clipping input data to the valid range for imshow with RGB data ([0..1] for floats or [0..255] for integers).\n",
      "Clipping input data to the valid range for imshow with RGB data ([0..1] for floats or [0..255] for integers).\n",
      "Clipping input data to the valid range for imshow with RGB data ([0..1] for floats or [0..255] for integers).\n",
      "Clipping input data to the valid range for imshow with RGB data ([0..1] for floats or [0..255] for integers).\n",
      "Clipping input data to the valid range for imshow with RGB data ([0..1] for floats or [0..255] for integers).\n"
     ]
    },
    {
     "name": "stdout",
     "output_type": "stream",
     "text": [
      "The model prediction were [79 62 92 28 67  5 58 71 98 27]\n",
      "The actual classes were :[ 6 61 92 22 41 69 81 57 11 27]\n"
     ]
    },
    {
     "data": {
      "image/png": "[encoded data removed]",
      "text/plain": [
       "<Figure size 720x720 with 10 Axes>"
      ]
     },
     "metadata": {
      "needs_background": "light"
     },
     "output_type": "display_data"
    }
   ],
   "source": [
    "import numpy as np\n",
    "import matplotlib.pyplot as plt\n",
    "\n",
    "pred_label2 = []\n",
    "true_label2 = []\n",
    "plt.rcParams['figure.figsize'] = (10,10)\n",
    "random_images2 = [int(i) for i in np.round(np.random.rand(10,1)* 10000)] \n",
    "\n",
    "for i in range(10):\n",
    "    img_num2 = random_images2[i]\n",
    "    img2 = np.array(val2[img_num2][0])\n",
    "    img2 = img2.transpose(1,2,0)\n",
    "    plt.subplot(2,5,i+1)\n",
    "    plt.imshow(img2.reshape((32,32,3)), interpolation='none')\n",
    "    index2 = torch.tensor(img_num2)\n",
    "\n",
    "    im2, la2 = val2[index2]\n",
    "    im2 = im2.unsqueeze(0)\n",
    "    output2 = model2(im2)\n",
    "    _, prediction2 = torch.max(output2.data, 1)\n",
    "    pred_label2.append(prediction2)\n",
    "    true_label2.append(la2)\n",
    "\n",
    "print(\"The model prediction were \" + str(np.array(pred_label2)))\n",
    "print(\"The actual classes were :\" + str(np.array(true_label2)))"
   ]
  },
  {
   "cell_type": "markdown",
   "metadata": {},
   "source": [
    "## Visualizing Feature Maps and Filters for CFAR100"
   ]
  },
  {
   "cell_type": "code",
   "execution_count": 298,
   "metadata": {},
   "outputs": [
    {
     "name": "stderr",
     "output_type": "stream",
     "text": [
      "/Users/niloofar/opt/anaconda3/lib/python3.7/site-packages/ipykernel_launcher.py:26: UserWarning: Implicit dimension choice for log_softmax has been deprecated. Change the call to include dim=X as an argument.\n",
      "Clipping input data to the valid range for imshow with RGB data ([0..1] for floats or [0..255] for integers).\n",
      "Clipping input data to the valid range for imshow with RGB data ([0..1] for floats or [0..255] for integers).\n",
      "Clipping input data to the valid range for imshow with RGB data ([0..1] for floats or [0..255] for integers).\n",
      "Clipping input data to the valid range for imshow with RGB data ([0..1] for floats or [0..255] for integers).\n",
      "Clipping input data to the valid range for imshow with RGB data ([0..1] for floats or [0..255] for integers).\n",
      "Clipping input data to the valid range for imshow with RGB data ([0..1] for floats or [0..255] for integers).\n",
      "Clipping input data to the valid range for imshow with RGB data ([0..1] for floats or [0..255] for integers).\n",
      "Clipping input data to the valid range for imshow with RGB data ([0..1] for floats or [0..255] for integers).\n",
      "Clipping input data to the valid range for imshow with RGB data ([0..1] for floats or [0..255] for integers).\n",
      "Clipping input data to the valid range for imshow with RGB data ([0..1] for floats or [0..255] for integers).\n",
      "Clipping input data to the valid range for imshow with RGB data ([0..1] for floats or [0..255] for integers).\n",
      "Clipping input data to the valid range for imshow with RGB data ([0..1] for floats or [0..255] for integers).\n",
      "Clipping input data to the valid range for imshow with RGB data ([0..1] for floats or [0..255] for integers).\n",
      "Clipping input data to the valid range for imshow with RGB data ([0..1] for floats or [0..255] for integers).\n",
      "Clipping input data to the valid range for imshow with RGB data ([0..1] for floats or [0..255] for integers).\n",
      "Clipping input data to the valid range for imshow with RGB data ([0..1] for floats or [0..255] for integers).\n",
      "Clipping input data to the valid range for imshow with RGB data ([0..1] for floats or [0..255] for integers).\n",
      "Clipping input data to the valid range for imshow with RGB data ([0..1] for floats or [0..255] for integers).\n",
      "Clipping input data to the valid range for imshow with RGB data ([0..1] for floats or [0..255] for integers).\n",
      "Clipping input data to the valid range for imshow with RGB data ([0..1] for floats or [0..255] for integers).\n",
      "Clipping input data to the valid range for imshow with RGB data ([0..1] for floats or [0..255] for integers).\n",
      "Clipping input data to the valid range for imshow with RGB data ([0..1] for floats or [0..255] for integers).\n",
      "Clipping input data to the valid range for imshow with RGB data ([0..1] for floats or [0..255] for integers).\n",
      "Clipping input data to the valid range for imshow with RGB data ([0..1] for floats or [0..255] for integers).\n",
      "Clipping input data to the valid range for imshow with RGB data ([0..1] for floats or [0..255] for integers).\n",
      "Clipping input data to the valid range for imshow with RGB data ([0..1] for floats or [0..255] for integers).\n",
      "Clipping input data to the valid range for imshow with RGB data ([0..1] for floats or [0..255] for integers).\n",
      "Clipping input data to the valid range for imshow with RGB data ([0..1] for floats or [0..255] for integers).\n",
      "Clipping input data to the valid range for imshow with RGB data ([0..1] for floats or [0..255] for integers).\n",
      "Clipping input data to the valid range for imshow with RGB data ([0..1] for floats or [0..255] for integers).\n",
      "Clipping input data to the valid range for imshow with RGB data ([0..1] for floats or [0..255] for integers).\n",
      "Clipping input data to the valid range for imshow with RGB data ([0..1] for floats or [0..255] for integers).\n"
     ]
    },
    {
     "data": {
      "image/png": "[encoded data removed]",
      "text/plain": [
       "<Figure size 1440x1440 with 32 Axes>"
      ]
     },
     "metadata": {
      "needs_background": "light"
     },
     "output_type": "display_data"
    },
    {
     "data": {
      "image/png": "[encoded data removed]",
      "text/plain": [
       "<Figure size 1440x1440 with 32 Axes>"
      ]
     },
     "metadata": {
      "needs_background": "light"
     },
     "output_type": "display_data"
    }
   ],
   "source": [
    "# Visualizing Feature Maps\n",
    "from torchvision.utils import make_grid\n",
    "\n",
    "activation = {}\n",
    "def get_activation(name):\n",
    "    def hook(model, input, output):\n",
    "        activation[name] = output.detach()\n",
    "    return hook\n",
    "\n",
    "model2.layer1.register_forward_hook(get_activation('conv1'))\n",
    "data, _ = train2[0]\n",
    "data.unsqueeze_(0)\n",
    "output = model2(data)\n",
    "\n",
    "act = activation['conv1'].squeeze()\n",
    "fig, axarr = plt.subplots(act.size(0))\n",
    "fig.set_figheight(20)\n",
    "fig.set_figwidth(20)\n",
    "#plt.subplot(2,5,act.size(0))\n",
    "for idx in range(act.size(0)):\n",
    "    axarr[idx].imshow(act[idx])\n",
    "    \n",
    "\n",
    "# Visualizing Filters layer\n",
    "kernels = model2.layer1[0].weight.detach()\n",
    "fig, axarr = plt.subplots(kernels.size(0))\n",
    "fig.set_figheight(20)\n",
    "fig.set_figwidth(20)\n",
    "for idx in range(kernels.size(0)):\n",
    "   # print(kernels[idx].shape)\n",
    "    axarr[idx].imshow(kernels[idx].squeeze())\n",
    "    \n",
    "    "
   ]
  },
  {
   "cell_type": "code",
   "execution_count": null,
   "metadata": {},
   "outputs": [],
   "source": []
  }
 ],
 "metadata": {
  "kernelspec": {
   "display_name": "Python 3",
   "language": "python",
   "name": "python3"
  },
  "language_info": {
   "codemirror_mode": {
    "name": "ipython",
    "version": 3
   },
   "file_extension": ".py",
   "mimetype": "text/x-python",
   "name": "python",
   "nbconvert_exporter": "python",
   "pygments_lexer": "ipython3",
   "version": "3.7.4"
  }
 },
 "nbformat": 4,
 "nbformat_minor": 2
}
